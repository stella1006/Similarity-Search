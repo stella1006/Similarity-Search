{
 "cells": [
  {
   "cell_type": "code",
   "execution_count": 2,
   "metadata": {
    "collapsed": false
   },
   "outputs": [],
   "source": [
    "import numpy as np\n",
    "import pandas as pd\n",
    "import matplotlib.pyplot as plt\n",
    "# makes matplotlib look a bit better \n",
    "import seaborn\n",
    "# this makes the plots display in the notebook (here) rather than open as a file \n",
    "%matplotlib inline"
   ]
  },
  {
   "cell_type": "code",
   "execution_count": null,
   "metadata": {
    "collapsed": true
   },
   "outputs": [],
   "source": [
    "log = np.loadtxt('log.txt')"
   ]
  },
  {
   "cell_type": "code",
   "execution_count": 4,
   "metadata": {
    "collapsed": false
   },
   "outputs": [
    {
     "name": "stdout",
     "output_type": "stream",
     "text": [
      "(2340373, 21)\n"
     ]
    }
   ],
   "source": [
    "print(log.shape)"
   ]
  },
  {
   "cell_type": "code",
   "execution_count": 5,
   "metadata": {
    "collapsed": false
   },
   "outputs": [
    {
     "name": "stdout",
     "output_type": "stream",
     "text": [
      "[      0. 1440627. 1543967. 1136817. 1481798. 2226674. 1305947. 2084820.\n",
      "  263842. 1483695. 1866045. 1857727.  975382.  964785.   10454.  504756.\n",
      "   27043. 1751653. 2115466. 2268585. 1302775.]\n"
     ]
    }
   ],
   "source": [
    "print(log[0])"
   ]
  },
  {
   "cell_type": "code",
   "execution_count": 10,
   "metadata": {
    "collapsed": false
   },
   "outputs": [
    {
     "name": "stdout",
     "output_type": "stream",
     "text": [
      "[1440627. 1543967. 1136817. 1481798. 2226674. 1305947. 2084820.  263842.\n",
      " 1483695. 1866045. 1857727.  975382.  964785.   10454.  504756.   27043.\n",
      " 1751653. 2115466. 2268585. 1302775.]\n",
      "2340373\n"
     ]
    }
   ],
   "source": [
    "log_nn = log[:,1:]\n",
    "print(log_nn[0])\n",
    "indegree = [0]*log_nn.shape[0]\n",
    "print(len(indegree))"
   ]
  },
  {
   "cell_type": "code",
   "execution_count": 14,
   "metadata": {
    "collapsed": false
   },
   "outputs": [],
   "source": [
    "indegree = [0]*log_nn.shape[0]\n",
    "for i in range(log_nn.shape[0]):\n",
    "    for item in log_nn[i]:\n",
    "        indegree[int(item)]+=1"
   ]
  },
  {
   "cell_type": "code",
   "execution_count": 16,
   "metadata": {
    "collapsed": false
   },
   "outputs": [
    {
     "name": "stdout",
     "output_type": "stream",
     "text": [
      "<class 'pandas.core.frame.DataFrame'>\n",
      "RangeIndex: 2340373 entries, 0 to 2340372\n",
      "Data columns (total 1 columns):\n",
      "0    int64\n",
      "dtypes: int64(1)\n",
      "memory usage: 17.9 MB\n"
     ]
    }
   ],
   "source": [
    "df_ind = pd.DataFrame(indegree)\n",
    "df_ind.info()"
   ]
  },
  {
   "cell_type": "code",
   "execution_count": 21,
   "metadata": {
    "collapsed": false
   },
   "outputs": [
    {
     "data": {
      "text/html": [
       "<div>\n",
       "<table border=\"1\" class=\"dataframe\">\n",
       "  <thead>\n",
       "    <tr style=\"text-align: right;\">\n",
       "      <th></th>\n",
       "      <th>Indegree</th>\n",
       "    </tr>\n",
       "  </thead>\n",
       "  <tbody>\n",
       "    <tr>\n",
       "      <th>12</th>\n",
       "      <td>8</td>\n",
       "    </tr>\n",
       "    <tr>\n",
       "      <th>30</th>\n",
       "      <td>1</td>\n",
       "    </tr>\n",
       "    <tr>\n",
       "      <th>45</th>\n",
       "      <td>1</td>\n",
       "    </tr>\n",
       "    <tr>\n",
       "      <th>50</th>\n",
       "      <td>4</td>\n",
       "    </tr>\n",
       "    <tr>\n",
       "      <th>57</th>\n",
       "      <td>2</td>\n",
       "    </tr>\n",
       "  </tbody>\n",
       "</table>\n",
       "</div>"
      ],
      "text/plain": [
       "    Indegree\n",
       "12         8\n",
       "30         1\n",
       "45         1\n",
       "50         4\n",
       "57         2"
      ]
     },
     "execution_count": 21,
     "metadata": {},
     "output_type": "execute_result"
    }
   ],
   "source": [
    "df_ind.columns = ['Indegree']\n",
    "df_ind_gt_0 = df_ind[df_ind['Indegree']>0]\n",
    "df_ind_gt_0.head()"
   ]
  },
  {
   "cell_type": "code",
   "execution_count": 28,
   "metadata": {
    "collapsed": false
   },
   "outputs": [
    {
     "data": {
      "text/html": [
       "<div>\n",
       "<table border=\"1\" class=\"dataframe\">\n",
       "  <thead>\n",
       "    <tr style=\"text-align: right;\">\n",
       "      <th></th>\n",
       "      <th>Indegree</th>\n",
       "    </tr>\n",
       "  </thead>\n",
       "  <tbody>\n",
       "    <tr>\n",
       "      <th>count</th>\n",
       "      <td>2.340373e+06</td>\n",
       "    </tr>\n",
       "    <tr>\n",
       "      <th>mean</th>\n",
       "      <td>2.000000e+01</td>\n",
       "    </tr>\n",
       "    <tr>\n",
       "      <th>std</th>\n",
       "      <td>6.233044e+02</td>\n",
       "    </tr>\n",
       "    <tr>\n",
       "      <th>min</th>\n",
       "      <td>0.000000e+00</td>\n",
       "    </tr>\n",
       "    <tr>\n",
       "      <th>25%</th>\n",
       "      <td>0.000000e+00</td>\n",
       "    </tr>\n",
       "    <tr>\n",
       "      <th>50%</th>\n",
       "      <td>0.000000e+00</td>\n",
       "    </tr>\n",
       "    <tr>\n",
       "      <th>75%</th>\n",
       "      <td>0.000000e+00</td>\n",
       "    </tr>\n",
       "    <tr>\n",
       "      <th>max</th>\n",
       "      <td>1.924450e+05</td>\n",
       "    </tr>\n",
       "  </tbody>\n",
       "</table>\n",
       "</div>"
      ],
      "text/plain": [
       "           Indegree\n",
       "count  2.340373e+06\n",
       "mean   2.000000e+01\n",
       "std    6.233044e+02\n",
       "min    0.000000e+00\n",
       "25%    0.000000e+00\n",
       "50%    0.000000e+00\n",
       "75%    0.000000e+00\n",
       "max    1.924450e+05"
      ]
     },
     "execution_count": 28,
     "metadata": {},
     "output_type": "execute_result"
    }
   ],
   "source": [
    "df_ind.describe()"
   ]
  },
  {
   "cell_type": "code",
   "execution_count": 58,
   "metadata": {
    "collapsed": false
   },
   "outputs": [
    {
     "data": {
      "text/html": [
       "<div>\n",
       "<table border=\"1\" class=\"dataframe\">\n",
       "  <thead>\n",
       "    <tr style=\"text-align: right;\">\n",
       "      <th></th>\n",
       "      <th>Indegree</th>\n",
       "      <th>num</th>\n",
       "    </tr>\n",
       "  </thead>\n",
       "  <tbody>\n",
       "    <tr>\n",
       "      <th>0</th>\n",
       "      <td>0</td>\n",
       "      <td>2104669</td>\n",
       "    </tr>\n",
       "    <tr>\n",
       "      <th>1</th>\n",
       "      <td>1</td>\n",
       "      <td>76471</td>\n",
       "    </tr>\n",
       "    <tr>\n",
       "      <th>2</th>\n",
       "      <td>2</td>\n",
       "      <td>28367</td>\n",
       "    </tr>\n",
       "    <tr>\n",
       "      <th>3</th>\n",
       "      <td>3</td>\n",
       "      <td>16413</td>\n",
       "    </tr>\n",
       "    <tr>\n",
       "      <th>4</th>\n",
       "      <td>4</td>\n",
       "      <td>10899</td>\n",
       "    </tr>\n",
       "  </tbody>\n",
       "</table>\n",
       "</div>"
      ],
      "text/plain": [
       "   Indegree      num\n",
       "0         0  2104669\n",
       "1         1    76471\n",
       "2         2    28367\n",
       "3         3    16413\n",
       "4         4    10899"
      ]
     },
     "execution_count": 58,
     "metadata": {},
     "output_type": "execute_result"
    }
   ],
   "source": [
    "#pd.DataFrame.hist(df_ind, bins=150)\n",
    "df_ind['num']=1\n",
    "df_ind_count = df_ind.groupby(df_ind.Indegree).sum()\n",
    "\n",
    "df_ind_count = df_ind_count.reset_index()\n",
    "\n",
    "df_ind_count.head()"
   ]
  },
  {
   "cell_type": "code",
   "execution_count": 60,
   "metadata": {
    "collapsed": false
   },
   "outputs": [
    {
     "data": {
      "text/html": [
       "<div>\n",
       "<table border=\"1\" class=\"dataframe\">\n",
       "  <thead>\n",
       "    <tr style=\"text-align: right;\">\n",
       "      <th></th>\n",
       "      <th>Indegree</th>\n",
       "      <th>num</th>\n",
       "    </tr>\n",
       "  </thead>\n",
       "  <tbody>\n",
       "    <tr>\n",
       "      <th>count</th>\n",
       "      <td>5080.000000</td>\n",
       "      <td>5.080000e+03</td>\n",
       "    </tr>\n",
       "    <tr>\n",
       "      <th>mean</th>\n",
       "      <td>6325.664173</td>\n",
       "      <td>4.607033e+02</td>\n",
       "    </tr>\n",
       "    <tr>\n",
       "      <th>std</th>\n",
       "      <td>11607.372310</td>\n",
       "      <td>2.955271e+04</td>\n",
       "    </tr>\n",
       "    <tr>\n",
       "      <th>min</th>\n",
       "      <td>0.000000</td>\n",
       "      <td>1.000000e+00</td>\n",
       "    </tr>\n",
       "    <tr>\n",
       "      <th>25%</th>\n",
       "      <td>1274.750000</td>\n",
       "      <td>1.000000e+00</td>\n",
       "    </tr>\n",
       "    <tr>\n",
       "      <th>50%</th>\n",
       "      <td>2799.500000</td>\n",
       "      <td>1.000000e+00</td>\n",
       "    </tr>\n",
       "    <tr>\n",
       "      <th>75%</th>\n",
       "      <td>6410.000000</td>\n",
       "      <td>4.000000e+00</td>\n",
       "    </tr>\n",
       "    <tr>\n",
       "      <th>max</th>\n",
       "      <td>192445.000000</td>\n",
       "      <td>2.104669e+06</td>\n",
       "    </tr>\n",
       "  </tbody>\n",
       "</table>\n",
       "</div>"
      ],
      "text/plain": [
       "            Indegree           num\n",
       "count    5080.000000  5.080000e+03\n",
       "mean     6325.664173  4.607033e+02\n",
       "std     11607.372310  2.955271e+04\n",
       "min         0.000000  1.000000e+00\n",
       "25%      1274.750000  1.000000e+00\n",
       "50%      2799.500000  1.000000e+00\n",
       "75%      6410.000000  4.000000e+00\n",
       "max    192445.000000  2.104669e+06"
      ]
     },
     "execution_count": 60,
     "metadata": {},
     "output_type": "execute_result"
    }
   ],
   "source": [
    "df_ind_count.describe()"
   ]
  },
  {
   "cell_type": "code",
   "execution_count": 59,
   "metadata": {
    "collapsed": false
   },
   "outputs": [
    {
     "data": {
      "image/png": "[encoded data removed]",
      "text/plain": [
       "<matplotlib.figure.Figure at 0x1536b9d30>"
      ]
     },
     "metadata": {},
     "output_type": "display_data"
    }
   ],
   "source": [
    "df_ind_count.plot(kind='scatter', x='Indegree', y='num')\n",
    "plt.show()"
   ]
  },
  {
   "cell_type": "code",
   "execution_count": 61,
   "metadata": {
    "collapsed": true
   },
   "outputs": [],
   "source": [
    "df_ind_count.to_csv('results/Indegree_count.csv')"
   ]
  },
  {
   "cell_type": "code",
   "execution_count": 2,
   "metadata": {
    "collapsed": true
   },
   "outputs": [],
   "source": [
    "log_dis = np.loadtxt('log.txt')"
   ]
  },
  {
   "cell_type": "code",
   "execution_count": 3,
   "metadata": {
    "collapsed": false
   },
   "outputs": [
    {
     "name": "stdout",
     "output_type": "stream",
     "text": [
      "(2340373, 41)\n"
     ]
    }
   ],
   "source": [
    "print(log_dis.shape)"
   ]
  },
  {
   "cell_type": "code",
   "execution_count": 4,
   "metadata": {
    "collapsed": true
   },
   "outputs": [],
   "source": [
    "df = pd.DataFrame(log_dis)"
   ]
  },
  {
   "cell_type": "code",
   "execution_count": 5,
   "metadata": {
    "collapsed": false
   },
   "outputs": [
    {
     "data": {
      "text/html": [
       "<div>\n",
       "<table border=\"1\" class=\"dataframe\">\n",
       "  <thead>\n",
       "    <tr style=\"text-align: right;\">\n",
       "      <th></th>\n",
       "      <th>0</th>\n",
       "      <th>1</th>\n",
       "      <th>2</th>\n",
       "      <th>3</th>\n",
       "      <th>4</th>\n",
       "      <th>5</th>\n",
       "      <th>6</th>\n",
       "      <th>7</th>\n",
       "      <th>8</th>\n",
       "      <th>9</th>\n",
       "      <th>...</th>\n",
       "      <th>31</th>\n",
       "      <th>32</th>\n",
       "      <th>33</th>\n",
       "      <th>34</th>\n",
       "      <th>35</th>\n",
       "      <th>36</th>\n",
       "      <th>37</th>\n",
       "      <th>38</th>\n",
       "      <th>39</th>\n",
       "      <th>40</th>\n",
       "    </tr>\n",
       "  </thead>\n",
       "  <tbody>\n",
       "    <tr>\n",
       "      <th>0</th>\n",
       "      <td>0.0</td>\n",
       "      <td>1899071.0</td>\n",
       "      <td>-0.053478</td>\n",
       "      <td>1997788.0</td>\n",
       "      <td>-0.020236</td>\n",
       "      <td>2084820.0</td>\n",
       "      <td>-0.062298</td>\n",
       "      <td>703521.0</td>\n",
       "      <td>-0.050942</td>\n",
       "      <td>1483695.0</td>\n",
       "      <td>...</td>\n",
       "      <td>2056668.0</td>\n",
       "      <td>-0.058450</td>\n",
       "      <td>1288422.0</td>\n",
       "      <td>-0.002372</td>\n",
       "      <td>1072420.0</td>\n",
       "      <td>-0.050805</td>\n",
       "      <td>242903.0</td>\n",
       "      <td>-0.079369</td>\n",
       "      <td>2319954.0</td>\n",
       "      <td>-0.036976</td>\n",
       "    </tr>\n",
       "    <tr>\n",
       "      <th>1</th>\n",
       "      <td>1.0</td>\n",
       "      <td>567701.0</td>\n",
       "      <td>-0.051244</td>\n",
       "      <td>1654829.0</td>\n",
       "      <td>-0.041142</td>\n",
       "      <td>936183.0</td>\n",
       "      <td>-0.041270</td>\n",
       "      <td>636678.0</td>\n",
       "      <td>-0.061356</td>\n",
       "      <td>1789275.0</td>\n",
       "      <td>...</td>\n",
       "      <td>1597280.0</td>\n",
       "      <td>-0.047472</td>\n",
       "      <td>493886.0</td>\n",
       "      <td>-0.056338</td>\n",
       "      <td>371063.0</td>\n",
       "      <td>-0.060921</td>\n",
       "      <td>1689313.0</td>\n",
       "      <td>-0.066179</td>\n",
       "      <td>1096278.0</td>\n",
       "      <td>-0.049289</td>\n",
       "    </tr>\n",
       "    <tr>\n",
       "      <th>2</th>\n",
       "      <td>2.0</td>\n",
       "      <td>1409648.0</td>\n",
       "      <td>0.055429</td>\n",
       "      <td>651879.0</td>\n",
       "      <td>0.111840</td>\n",
       "      <td>2068245.0</td>\n",
       "      <td>0.066602</td>\n",
       "      <td>1631022.0</td>\n",
       "      <td>0.098256</td>\n",
       "      <td>1951416.0</td>\n",
       "      <td>...</td>\n",
       "      <td>1004716.0</td>\n",
       "      <td>0.045979</td>\n",
       "      <td>895085.0</td>\n",
       "      <td>0.061956</td>\n",
       "      <td>2307523.0</td>\n",
       "      <td>0.020530</td>\n",
       "      <td>1628533.0</td>\n",
       "      <td>0.011826</td>\n",
       "      <td>69609.0</td>\n",
       "      <td>0.038646</td>\n",
       "    </tr>\n",
       "    <tr>\n",
       "      <th>3</th>\n",
       "      <td>3.0</td>\n",
       "      <td>1429717.0</td>\n",
       "      <td>-0.069808</td>\n",
       "      <td>2191508.0</td>\n",
       "      <td>-0.072880</td>\n",
       "      <td>976111.0</td>\n",
       "      <td>-0.069886</td>\n",
       "      <td>520287.0</td>\n",
       "      <td>-0.073345</td>\n",
       "      <td>1723251.0</td>\n",
       "      <td>...</td>\n",
       "      <td>843359.0</td>\n",
       "      <td>-0.077367</td>\n",
       "      <td>761236.0</td>\n",
       "      <td>-0.071467</td>\n",
       "      <td>2129035.0</td>\n",
       "      <td>-0.055163</td>\n",
       "      <td>1147024.0</td>\n",
       "      <td>-0.072967</td>\n",
       "      <td>2040506.0</td>\n",
       "      <td>-0.076153</td>\n",
       "    </tr>\n",
       "    <tr>\n",
       "      <th>4</th>\n",
       "      <td>4.0</td>\n",
       "      <td>1442224.0</td>\n",
       "      <td>0.041420</td>\n",
       "      <td>458512.0</td>\n",
       "      <td>0.040709</td>\n",
       "      <td>1290084.0</td>\n",
       "      <td>0.042856</td>\n",
       "      <td>1727083.0</td>\n",
       "      <td>0.017193</td>\n",
       "      <td>442855.0</td>\n",
       "      <td>...</td>\n",
       "      <td>1582871.0</td>\n",
       "      <td>0.043673</td>\n",
       "      <td>1379361.0</td>\n",
       "      <td>0.032695</td>\n",
       "      <td>1997142.0</td>\n",
       "      <td>0.029257</td>\n",
       "      <td>1826788.0</td>\n",
       "      <td>0.031842</td>\n",
       "      <td>2059135.0</td>\n",
       "      <td>0.028408</td>\n",
       "    </tr>\n",
       "  </tbody>\n",
       "</table>\n",
       "<p>5 rows × 41 columns</p>\n",
       "</div>"
      ],
      "text/plain": [
       "    0          1         2          3         4          5         6   \\\n",
       "0  0.0  1899071.0 -0.053478  1997788.0 -0.020236  2084820.0 -0.062298   \n",
       "1  1.0   567701.0 -0.051244  1654829.0 -0.041142   936183.0 -0.041270   \n",
       "2  2.0  1409648.0  0.055429   651879.0  0.111840  2068245.0  0.066602   \n",
       "3  3.0  1429717.0 -0.069808  2191508.0 -0.072880   976111.0 -0.069886   \n",
       "4  4.0  1442224.0  0.041420   458512.0  0.040709  1290084.0  0.042856   \n",
       "\n",
       "          7         8          9     ...            31        32         33  \\\n",
       "0   703521.0 -0.050942  1483695.0    ...     2056668.0 -0.058450  1288422.0   \n",
       "1   636678.0 -0.061356  1789275.0    ...     1597280.0 -0.047472   493886.0   \n",
       "2  1631022.0  0.098256  1951416.0    ...     1004716.0  0.045979   895085.0   \n",
       "3   520287.0 -0.073345  1723251.0    ...      843359.0 -0.077367   761236.0   \n",
       "4  1727083.0  0.017193   442855.0    ...     1582871.0  0.043673  1379361.0   \n",
       "\n",
       "         34         35        36         37        38         39        40  \n",
       "0 -0.002372  1072420.0 -0.050805   242903.0 -0.079369  2319954.0 -0.036976  \n",
       "1 -0.056338   371063.0 -0.060921  1689313.0 -0.066179  1096278.0 -0.049289  \n",
       "2  0.061956  2307523.0  0.020530  1628533.0  0.011826    69609.0  0.038646  \n",
       "3 -0.071467  2129035.0 -0.055163  1147024.0 -0.072967  2040506.0 -0.076153  \n",
       "4  0.032695  1997142.0  0.029257  1826788.0  0.031842  2059135.0  0.028408  \n",
       "\n",
       "[5 rows x 41 columns]"
      ]
     },
     "execution_count": 5,
     "metadata": {},
     "output_type": "execute_result"
    }
   ],
   "source": [
    "df.head()"
   ]
  },
  {
   "cell_type": "code",
   "execution_count": 8,
   "metadata": {
    "collapsed": false
   },
   "outputs": [],
   "source": [
    "#df.describe()"
   ]
  },
  {
   "cell_type": "code",
   "execution_count": 15,
   "metadata": {
    "collapsed": false
   },
   "outputs": [
    {
     "name": "stdout",
     "output_type": "stream",
     "text": [
      "[-0.0534782  -0.0202363  -0.0622982  -0.0509423  -0.0344228  -0.0426861\n",
      " -0.0435062  -0.0425627  -0.0286012  -0.0276044  -0.0363253  -0.0108703\n",
      " -0.0251064  -0.022035   -0.0157842  -0.0584498  -0.00237201 -0.0508048\n",
      " -0.0793695  -0.0369762 ]\n"
     ]
    },
    {
     "data": {
      "text/html": [
       "<div>\n",
       "<table border=\"1\" class=\"dataframe\">\n",
       "  <thead>\n",
       "    <tr style=\"text-align: right;\">\n",
       "      <th></th>\n",
       "      <th>0</th>\n",
       "      <th>1</th>\n",
       "      <th>2</th>\n",
       "      <th>3</th>\n",
       "      <th>4</th>\n",
       "      <th>5</th>\n",
       "      <th>6</th>\n",
       "      <th>7</th>\n",
       "      <th>8</th>\n",
       "      <th>9</th>\n",
       "      <th>10</th>\n",
       "      <th>11</th>\n",
       "      <th>12</th>\n",
       "      <th>13</th>\n",
       "      <th>14</th>\n",
       "      <th>15</th>\n",
       "      <th>16</th>\n",
       "      <th>17</th>\n",
       "      <th>18</th>\n",
       "      <th>19</th>\n",
       "    </tr>\n",
       "  </thead>\n",
       "  <tbody>\n",
       "    <tr>\n",
       "      <th>0</th>\n",
       "      <td>-0.053478</td>\n",
       "      <td>-0.020236</td>\n",
       "      <td>-0.062298</td>\n",
       "      <td>-0.050942</td>\n",
       "      <td>-0.034423</td>\n",
       "      <td>-0.042686</td>\n",
       "      <td>-0.043506</td>\n",
       "      <td>-0.042563</td>\n",
       "      <td>-0.028601</td>\n",
       "      <td>-0.027604</td>\n",
       "      <td>-0.036325</td>\n",
       "      <td>-0.010870</td>\n",
       "      <td>-0.025106</td>\n",
       "      <td>-0.022035</td>\n",
       "      <td>-0.015784</td>\n",
       "      <td>-0.058450</td>\n",
       "      <td>-0.002372</td>\n",
       "      <td>-0.050805</td>\n",
       "      <td>-0.079369</td>\n",
       "      <td>-0.036976</td>\n",
       "    </tr>\n",
       "    <tr>\n",
       "      <th>1</th>\n",
       "      <td>-0.051244</td>\n",
       "      <td>-0.041142</td>\n",
       "      <td>-0.041270</td>\n",
       "      <td>-0.061356</td>\n",
       "      <td>-0.053586</td>\n",
       "      <td>-0.025328</td>\n",
       "      <td>-0.054990</td>\n",
       "      <td>-0.052038</td>\n",
       "      <td>-0.050236</td>\n",
       "      <td>-0.052446</td>\n",
       "      <td>-0.027398</td>\n",
       "      <td>-0.054332</td>\n",
       "      <td>-0.052736</td>\n",
       "      <td>0.005950</td>\n",
       "      <td>-0.051844</td>\n",
       "      <td>-0.047472</td>\n",
       "      <td>-0.056338</td>\n",
       "      <td>-0.060921</td>\n",
       "      <td>-0.066179</td>\n",
       "      <td>-0.049289</td>\n",
       "    </tr>\n",
       "    <tr>\n",
       "      <th>2</th>\n",
       "      <td>0.055429</td>\n",
       "      <td>0.111840</td>\n",
       "      <td>0.066602</td>\n",
       "      <td>0.098256</td>\n",
       "      <td>0.061547</td>\n",
       "      <td>0.027866</td>\n",
       "      <td>0.021140</td>\n",
       "      <td>0.036527</td>\n",
       "      <td>0.047768</td>\n",
       "      <td>0.088876</td>\n",
       "      <td>0.095865</td>\n",
       "      <td>0.065241</td>\n",
       "      <td>0.047174</td>\n",
       "      <td>0.091836</td>\n",
       "      <td>0.117186</td>\n",
       "      <td>0.045979</td>\n",
       "      <td>0.061956</td>\n",
       "      <td>0.020530</td>\n",
       "      <td>0.011826</td>\n",
       "      <td>0.038646</td>\n",
       "    </tr>\n",
       "    <tr>\n",
       "      <th>3</th>\n",
       "      <td>-0.069808</td>\n",
       "      <td>-0.072880</td>\n",
       "      <td>-0.069886</td>\n",
       "      <td>-0.073345</td>\n",
       "      <td>-0.070307</td>\n",
       "      <td>-0.079974</td>\n",
       "      <td>-0.079401</td>\n",
       "      <td>-0.061224</td>\n",
       "      <td>-0.065438</td>\n",
       "      <td>-0.055945</td>\n",
       "      <td>-0.077703</td>\n",
       "      <td>-0.068691</td>\n",
       "      <td>-0.066975</td>\n",
       "      <td>-0.065061</td>\n",
       "      <td>-0.042530</td>\n",
       "      <td>-0.077367</td>\n",
       "      <td>-0.071467</td>\n",
       "      <td>-0.055163</td>\n",
       "      <td>-0.072967</td>\n",
       "      <td>-0.076153</td>\n",
       "    </tr>\n",
       "    <tr>\n",
       "      <th>4</th>\n",
       "      <td>0.041420</td>\n",
       "      <td>0.040709</td>\n",
       "      <td>0.042856</td>\n",
       "      <td>0.017193</td>\n",
       "      <td>0.055602</td>\n",
       "      <td>0.062955</td>\n",
       "      <td>0.047149</td>\n",
       "      <td>0.051931</td>\n",
       "      <td>0.014260</td>\n",
       "      <td>0.022166</td>\n",
       "      <td>0.008474</td>\n",
       "      <td>0.025150</td>\n",
       "      <td>0.028275</td>\n",
       "      <td>0.021023</td>\n",
       "      <td>0.020980</td>\n",
       "      <td>0.043673</td>\n",
       "      <td>0.032695</td>\n",
       "      <td>0.029257</td>\n",
       "      <td>0.031842</td>\n",
       "      <td>0.028408</td>\n",
       "    </tr>\n",
       "  </tbody>\n",
       "</table>\n",
       "</div>"
      ],
      "text/plain": [
       "         0         1         2         3         4         5         6   \\\n",
       "0 -0.053478 -0.020236 -0.062298 -0.050942 -0.034423 -0.042686 -0.043506   \n",
       "1 -0.051244 -0.041142 -0.041270 -0.061356 -0.053586 -0.025328 -0.054990   \n",
       "2  0.055429  0.111840  0.066602  0.098256  0.061547  0.027866  0.021140   \n",
       "3 -0.069808 -0.072880 -0.069886 -0.073345 -0.070307 -0.079974 -0.079401   \n",
       "4  0.041420  0.040709  0.042856  0.017193  0.055602  0.062955  0.047149   \n",
       "\n",
       "         7         8         9         10        11        12        13  \\\n",
       "0 -0.042563 -0.028601 -0.027604 -0.036325 -0.010870 -0.025106 -0.022035   \n",
       "1 -0.052038 -0.050236 -0.052446 -0.027398 -0.054332 -0.052736  0.005950   \n",
       "2  0.036527  0.047768  0.088876  0.095865  0.065241  0.047174  0.091836   \n",
       "3 -0.061224 -0.065438 -0.055945 -0.077703 -0.068691 -0.066975 -0.065061   \n",
       "4  0.051931  0.014260  0.022166  0.008474  0.025150  0.028275  0.021023   \n",
       "\n",
       "         14        15        16        17        18        19  \n",
       "0 -0.015784 -0.058450 -0.002372 -0.050805 -0.079369 -0.036976  \n",
       "1 -0.051844 -0.047472 -0.056338 -0.060921 -0.066179 -0.049289  \n",
       "2  0.117186  0.045979  0.061956  0.020530  0.011826  0.038646  \n",
       "3 -0.042530 -0.077367 -0.071467 -0.055163 -0.072967 -0.076153  \n",
       "4  0.020980  0.043673  0.032695  0.029257  0.031842  0.028408  "
      ]
     },
     "execution_count": 15,
     "metadata": {},
     "output_type": "execute_result"
    }
   ],
   "source": [
    "np_dist = log_dis[:, 1:]\n",
    "np_dist = np_dist[:, 1::2]\n",
    "print(np_dist[0])\n",
    "df_dist = pd.DataFrame(np_dist)\n",
    "df_dist.head()"
   ]
  },
  {
   "cell_type": "code",
   "execution_count": 31,
   "metadata": {
    "collapsed": false
   },
   "outputs": [],
   "source": [
    "df_dist.describe()\n",
    "df_dist.to_csv('dist.csv')"
   ]
  },
  {
   "cell_type": "code",
   "execution_count": 22,
   "metadata": {
    "collapsed": true
   },
   "outputs": [],
   "source": [
    "MIN = df_dist.describe()"
   ]
  },
  {
   "cell_type": "code",
   "execution_count": 18,
   "metadata": {
    "collapsed": false
   },
   "outputs": [
    {
     "data": {
      "text/html": [
       "<div>\n",
       "<table border=\"1\" class=\"dataframe\">\n",
       "  <thead>\n",
       "    <tr style=\"text-align: right;\">\n",
       "      <th></th>\n",
       "      <th>0</th>\n",
       "      <th>1</th>\n",
       "      <th>2</th>\n",
       "      <th>3</th>\n",
       "      <th>4</th>\n",
       "      <th>5</th>\n",
       "      <th>6</th>\n",
       "      <th>7</th>\n",
       "      <th>8</th>\n",
       "      <th>9</th>\n",
       "      <th>10</th>\n",
       "      <th>11</th>\n",
       "      <th>12</th>\n",
       "      <th>13</th>\n",
       "      <th>14</th>\n",
       "      <th>15</th>\n",
       "      <th>16</th>\n",
       "      <th>17</th>\n",
       "      <th>18</th>\n",
       "      <th>19</th>\n",
       "    </tr>\n",
       "  </thead>\n",
       "  <tbody>\n",
       "    <tr>\n",
       "      <th>count</th>\n",
       "      <td>2.340373e+06</td>\n",
       "      <td>2.340373e+06</td>\n",
       "      <td>2.340373e+06</td>\n",
       "      <td>2.340373e+06</td>\n",
       "      <td>2.340373e+06</td>\n",
       "      <td>2.340373e+06</td>\n",
       "      <td>2.340373e+06</td>\n",
       "      <td>2.340373e+06</td>\n",
       "      <td>2.340373e+06</td>\n",
       "      <td>2.340373e+06</td>\n",
       "      <td>2.340373e+06</td>\n",
       "      <td>2.340373e+06</td>\n",
       "      <td>2.340373e+06</td>\n",
       "      <td>2.340373e+06</td>\n",
       "      <td>2.340373e+06</td>\n",
       "      <td>2.340373e+06</td>\n",
       "      <td>2.340373e+06</td>\n",
       "      <td>2.340373e+06</td>\n",
       "      <td>2.340373e+06</td>\n",
       "      <td>2.340373e+06</td>\n",
       "    </tr>\n",
       "    <tr>\n",
       "      <th>mean</th>\n",
       "      <td>-9.010414e-06</td>\n",
       "      <td>-6.148205e-06</td>\n",
       "      <td>6.530101e-07</td>\n",
       "      <td>-6.473147e-06</td>\n",
       "      <td>-3.414759e-05</td>\n",
       "      <td>-1.988847e-05</td>\n",
       "      <td>-3.287840e-06</td>\n",
       "      <td>1.406977e-05</td>\n",
       "      <td>-3.677215e-06</td>\n",
       "      <td>-1.392209e-05</td>\n",
       "      <td>7.184161e-06</td>\n",
       "      <td>1.821020e-05</td>\n",
       "      <td>-5.295634e-05</td>\n",
       "      <td>-1.492180e-05</td>\n",
       "      <td>-6.762405e-07</td>\n",
       "      <td>-3.465648e-06</td>\n",
       "      <td>-2.595618e-05</td>\n",
       "      <td>4.796852e-06</td>\n",
       "      <td>-2.155143e-06</td>\n",
       "      <td>-1.088471e-05</td>\n",
       "    </tr>\n",
       "    <tr>\n",
       "      <th>std</th>\n",
       "      <td>8.405375e-02</td>\n",
       "      <td>8.383073e-02</td>\n",
       "      <td>8.372825e-02</td>\n",
       "      <td>8.366343e-02</td>\n",
       "      <td>8.355733e-02</td>\n",
       "      <td>8.350940e-02</td>\n",
       "      <td>8.347268e-02</td>\n",
       "      <td>8.343941e-02</td>\n",
       "      <td>8.335770e-02</td>\n",
       "      <td>8.322441e-02</td>\n",
       "      <td>8.320599e-02</td>\n",
       "      <td>8.315442e-02</td>\n",
       "      <td>8.300907e-02</td>\n",
       "      <td>8.299326e-02</td>\n",
       "      <td>8.293362e-02</td>\n",
       "      <td>8.288183e-02</td>\n",
       "      <td>8.273102e-02</td>\n",
       "      <td>8.269022e-02</td>\n",
       "      <td>8.261221e-02</td>\n",
       "      <td>8.255651e-02</td>\n",
       "    </tr>\n",
       "    <tr>\n",
       "      <th>min</th>\n",
       "      <td>-5.097200e-01</td>\n",
       "      <td>-4.965560e-01</td>\n",
       "      <td>-4.978520e-01</td>\n",
       "      <td>-4.992860e-01</td>\n",
       "      <td>-5.081470e-01</td>\n",
       "      <td>-4.949340e-01</td>\n",
       "      <td>-5.140110e-01</td>\n",
       "      <td>-4.932560e-01</td>\n",
       "      <td>-5.221220e-01</td>\n",
       "      <td>-5.119110e-01</td>\n",
       "      <td>-4.972210e-01</td>\n",
       "      <td>-5.049910e-01</td>\n",
       "      <td>-5.057720e-01</td>\n",
       "      <td>-5.149050e-01</td>\n",
       "      <td>-5.010060e-01</td>\n",
       "      <td>-4.889640e-01</td>\n",
       "      <td>-5.003840e-01</td>\n",
       "      <td>-5.023550e-01</td>\n",
       "      <td>-5.017420e-01</td>\n",
       "      <td>-5.000830e-01</td>\n",
       "    </tr>\n",
       "    <tr>\n",
       "      <th>25%</th>\n",
       "      <td>-4.613190e-02</td>\n",
       "      <td>-4.588260e-02</td>\n",
       "      <td>-4.575300e-02</td>\n",
       "      <td>-4.568170e-02</td>\n",
       "      <td>-4.567960e-02</td>\n",
       "      <td>-4.559050e-02</td>\n",
       "      <td>-4.554570e-02</td>\n",
       "      <td>-4.547500e-02</td>\n",
       "      <td>-4.544440e-02</td>\n",
       "      <td>-4.540530e-02</td>\n",
       "      <td>-4.537240e-02</td>\n",
       "      <td>-4.530540e-02</td>\n",
       "      <td>-4.533820e-02</td>\n",
       "      <td>-4.528230e-02</td>\n",
       "      <td>-4.519090e-02</td>\n",
       "      <td>-4.520950e-02</td>\n",
       "      <td>-4.518260e-02</td>\n",
       "      <td>-4.506430e-02</td>\n",
       "      <td>-4.504360e-02</td>\n",
       "      <td>-4.500190e-02</td>\n",
       "    </tr>\n",
       "    <tr>\n",
       "      <th>50%</th>\n",
       "      <td>-6.260680e-03</td>\n",
       "      <td>-6.129500e-03</td>\n",
       "      <td>-6.060650e-03</td>\n",
       "      <td>-6.052670e-03</td>\n",
       "      <td>-6.035310e-03</td>\n",
       "      <td>-6.001290e-03</td>\n",
       "      <td>-5.974970e-03</td>\n",
       "      <td>-5.982140e-03</td>\n",
       "      <td>-5.957570e-03</td>\n",
       "      <td>-5.969210e-03</td>\n",
       "      <td>-5.945130e-03</td>\n",
       "      <td>-5.929580e-03</td>\n",
       "      <td>-5.957340e-03</td>\n",
       "      <td>-5.886000e-03</td>\n",
       "      <td>-5.914190e-03</td>\n",
       "      <td>-5.888460e-03</td>\n",
       "      <td>-5.899950e-03</td>\n",
       "      <td>-5.850900e-03</td>\n",
       "      <td>-5.913630e-03</td>\n",
       "      <td>-5.844380e-03</td>\n",
       "    </tr>\n",
       "    <tr>\n",
       "      <th>75%</th>\n",
       "      <td>3.786730e-02</td>\n",
       "      <td>3.765910e-02</td>\n",
       "      <td>3.756830e-02</td>\n",
       "      <td>3.745400e-02</td>\n",
       "      <td>3.742460e-02</td>\n",
       "      <td>3.728990e-02</td>\n",
       "      <td>3.723880e-02</td>\n",
       "      <td>3.724030e-02</td>\n",
       "      <td>3.710160e-02</td>\n",
       "      <td>3.703410e-02</td>\n",
       "      <td>3.695850e-02</td>\n",
       "      <td>3.691730e-02</td>\n",
       "      <td>3.680400e-02</td>\n",
       "      <td>3.675190e-02</td>\n",
       "      <td>3.673340e-02</td>\n",
       "      <td>3.664910e-02</td>\n",
       "      <td>3.653010e-02</td>\n",
       "      <td>3.639400e-02</td>\n",
       "      <td>3.641730e-02</td>\n",
       "      <td>3.630970e-02</td>\n",
       "    </tr>\n",
       "    <tr>\n",
       "      <th>max</th>\n",
       "      <td>1.310230e+00</td>\n",
       "      <td>1.295310e+00</td>\n",
       "      <td>1.305700e+00</td>\n",
       "      <td>1.259570e+00</td>\n",
       "      <td>1.260570e+00</td>\n",
       "      <td>1.312940e+00</td>\n",
       "      <td>1.251720e+00</td>\n",
       "      <td>1.279370e+00</td>\n",
       "      <td>1.339710e+00</td>\n",
       "      <td>1.334210e+00</td>\n",
       "      <td>1.327240e+00</td>\n",
       "      <td>1.267110e+00</td>\n",
       "      <td>1.285100e+00</td>\n",
       "      <td>1.367430e+00</td>\n",
       "      <td>1.420510e+00</td>\n",
       "      <td>1.407570e+00</td>\n",
       "      <td>1.373260e+00</td>\n",
       "      <td>1.312140e+00</td>\n",
       "      <td>1.418610e+00</td>\n",
       "      <td>1.241370e+00</td>\n",
       "    </tr>\n",
       "  </tbody>\n",
       "</table>\n",
       "</div>"
      ],
      "text/plain": [
       "                 0             1             2             3             4   \\\n",
       "count  2.340373e+06  2.340373e+06  2.340373e+06  2.340373e+06  2.340373e+06   \n",
       "mean  -9.010414e-06 -6.148205e-06  6.530101e-07 -6.473147e-06 -3.414759e-05   \n",
       "std    8.405375e-02  8.383073e-02  8.372825e-02  8.366343e-02  8.355733e-02   \n",
       "min   -5.097200e-01 -4.965560e-01 -4.978520e-01 -4.992860e-01 -5.081470e-01   \n",
       "25%   -4.613190e-02 -4.588260e-02 -4.575300e-02 -4.568170e-02 -4.567960e-02   \n",
       "50%   -6.260680e-03 -6.129500e-03 -6.060650e-03 -6.052670e-03 -6.035310e-03   \n",
       "75%    3.786730e-02  3.765910e-02  3.756830e-02  3.745400e-02  3.742460e-02   \n",
       "max    1.310230e+00  1.295310e+00  1.305700e+00  1.259570e+00  1.260570e+00   \n",
       "\n",
       "                 5             6             7             8             9   \\\n",
       "count  2.340373e+06  2.340373e+06  2.340373e+06  2.340373e+06  2.340373e+06   \n",
       "mean  -1.988847e-05 -3.287840e-06  1.406977e-05 -3.677215e-06 -1.392209e-05   \n",
       "std    8.350940e-02  8.347268e-02  8.343941e-02  8.335770e-02  8.322441e-02   \n",
       "min   -4.949340e-01 -5.140110e-01 -4.932560e-01 -5.221220e-01 -5.119110e-01   \n",
       "25%   -4.559050e-02 -4.554570e-02 -4.547500e-02 -4.544440e-02 -4.540530e-02   \n",
       "50%   -6.001290e-03 -5.974970e-03 -5.982140e-03 -5.957570e-03 -5.969210e-03   \n",
       "75%    3.728990e-02  3.723880e-02  3.724030e-02  3.710160e-02  3.703410e-02   \n",
       "max    1.312940e+00  1.251720e+00  1.279370e+00  1.339710e+00  1.334210e+00   \n",
       "\n",
       "                 10            11            12            13            14  \\\n",
       "count  2.340373e+06  2.340373e+06  2.340373e+06  2.340373e+06  2.340373e+06   \n",
       "mean   7.184161e-06  1.821020e-05 -5.295634e-05 -1.492180e-05 -6.762405e-07   \n",
       "std    8.320599e-02  8.315442e-02  8.300907e-02  8.299326e-02  8.293362e-02   \n",
       "min   -4.972210e-01 -5.049910e-01 -5.057720e-01 -5.149050e-01 -5.010060e-01   \n",
       "25%   -4.537240e-02 -4.530540e-02 -4.533820e-02 -4.528230e-02 -4.519090e-02   \n",
       "50%   -5.945130e-03 -5.929580e-03 -5.957340e-03 -5.886000e-03 -5.914190e-03   \n",
       "75%    3.695850e-02  3.691730e-02  3.680400e-02  3.675190e-02  3.673340e-02   \n",
       "max    1.327240e+00  1.267110e+00  1.285100e+00  1.367430e+00  1.420510e+00   \n",
       "\n",
       "                 15            16            17            18            19  \n",
       "count  2.340373e+06  2.340373e+06  2.340373e+06  2.340373e+06  2.340373e+06  \n",
       "mean  -3.465648e-06 -2.595618e-05  4.796852e-06 -2.155143e-06 -1.088471e-05  \n",
       "std    8.288183e-02  8.273102e-02  8.269022e-02  8.261221e-02  8.255651e-02  \n",
       "min   -4.889640e-01 -5.003840e-01 -5.023550e-01 -5.017420e-01 -5.000830e-01  \n",
       "25%   -4.520950e-02 -4.518260e-02 -4.506430e-02 -4.504360e-02 -4.500190e-02  \n",
       "50%   -5.888460e-03 -5.899950e-03 -5.850900e-03 -5.913630e-03 -5.844380e-03  \n",
       "75%    3.664910e-02  3.653010e-02  3.639400e-02  3.641730e-02  3.630970e-02  \n",
       "max    1.407570e+00  1.373260e+00  1.312140e+00  1.418610e+00  1.241370e+00  "
      ]
     },
     "execution_count": 18,
     "metadata": {},
     "output_type": "execute_result"
    }
   ],
   "source": [
    "MIN"
   ]
  },
  {
   "cell_type": "code",
   "execution_count": 29,
   "metadata": {
    "collapsed": false
   },
   "outputs": [
    {
     "data": {
      "text/plain": [
       "count    20.000000\n",
       "mean      1.318483\n",
       "std       0.055200\n",
       "min       1.241370\n",
       "25%       1.276305\n",
       "50%       1.311185\n",
       "75%       1.346640\n",
       "max       1.420510\n",
       "Name: max, dtype: float64"
      ]
     },
     "execution_count": 29,
     "metadata": {},
     "output_type": "execute_result"
    }
   ],
   "source": [
    "MAX_ = MIN.loc['max']\n",
    "MAX_.describe()"
   ]
  },
  {
   "cell_type": "code",
   "execution_count": 30,
   "metadata": {
    "collapsed": false
   },
   "outputs": [
    {
     "data": {
      "text/plain": [
       "count    20.000000\n",
       "mean     -0.503261\n",
       "std       0.008219\n",
       "min      -0.522122\n",
       "25%      -0.508540\n",
       "50%      -0.501374\n",
       "75%      -0.497694\n",
       "max      -0.488964\n",
       "Name: min, dtype: float64"
      ]
     },
     "execution_count": 30,
     "metadata": {},
     "output_type": "execute_result"
    }
   ],
   "source": [
    "MIN_ = MIN.loc['min']\n",
    "MIN_.describe()"
   ]
  },
  {
   "cell_type": "code",
   "execution_count": 35,
   "metadata": {
    "collapsed": false
   },
   "outputs": [
    {
     "name": "stdout",
     "output_type": "stream",
     "text": [
      "195\n"
     ]
    }
   ],
   "source": [
    "# (-0.522122, 1.420510)\n",
    "index = []\n",
    "for i in range(-52,143):\n",
    "    index.append(i/100)\n",
    "print(len(index))"
   ]
  },
  {
   "cell_type": "code",
   "execution_count": 40,
   "metadata": {
    "collapsed": false
   },
   "outputs": [
    {
     "ename": "KeyError",
     "evalue": "20",
     "output_type": "error",
     "traceback": [
      "\u001b[0;31m---------------------------------------------------------------------------\u001b[0m",
      "\u001b[0;31mKeyError\u001b[0m                                  Traceback (most recent call last)",
      "\u001b[0;32m//anaconda/lib/python3.5/site-packages/pandas/indexes/base.py\u001b[0m in \u001b[0;36mget_loc\u001b[0;34m(self, key, method, tolerance)\u001b[0m\n\u001b[1;32m   1944\u001b[0m             \u001b[0;32mtry\u001b[0m\u001b[0;34m:\u001b[0m\u001b[0;34m\u001b[0m\u001b[0m\n\u001b[0;32m-> 1945\u001b[0;31m                 \u001b[0;32mreturn\u001b[0m \u001b[0mself\u001b[0m\u001b[0;34m.\u001b[0m\u001b[0m_engine\u001b[0m\u001b[0;34m.\u001b[0m\u001b[0mget_loc\u001b[0m\u001b[0;34m(\u001b[0m\u001b[0mkey\u001b[0m\u001b[0;34m)\u001b[0m\u001b[0;34m\u001b[0m\u001b[0m\n\u001b[0m\u001b[1;32m   1946\u001b[0m             \u001b[0;32mexcept\u001b[0m \u001b[0mKeyError\u001b[0m\u001b[0;34m:\u001b[0m\u001b[0;34m\u001b[0m\u001b[0m\n",
      "\u001b[0;32mpandas/index.pyx\u001b[0m in \u001b[0;36mpandas.index.IndexEngine.get_loc (pandas/index.c:4154)\u001b[0;34m()\u001b[0m\n",
      "\u001b[0;32mpandas/index.pyx\u001b[0m in \u001b[0;36mpandas.index.IndexEngine.get_loc (pandas/index.c:4018)\u001b[0;34m()\u001b[0m\n",
      "\u001b[0;32mpandas/hashtable.pyx\u001b[0m in \u001b[0;36mpandas.hashtable.Int64HashTable.get_item (pandas/hashtable.c:6610)\u001b[0;34m()\u001b[0m\n",
      "\u001b[0;32mpandas/hashtable.pyx\u001b[0m in \u001b[0;36mpandas.hashtable.Int64HashTable.get_item (pandas/hashtable.c:6554)\u001b[0;34m()\u001b[0m\n",
      "\u001b[0;31mKeyError\u001b[0m: 20",
      "\nDuring handling of the above exception, another exception occurred:\n",
      "\u001b[0;31mKeyError\u001b[0m                                  Traceback (most recent call last)",
      "\u001b[0;32m<ipython-input-40-7dbc259c0b11>\u001b[0m in \u001b[0;36m<module>\u001b[0;34m()\u001b[0m\n\u001b[1;32m      1\u001b[0m \u001b[0mcount\u001b[0m \u001b[0;34m=\u001b[0m \u001b[0;34m[\u001b[0m\u001b[0;36m0\u001b[0m\u001b[0;34m]\u001b[0m\u001b[0;34m*\u001b[0m\u001b[0;36m195\u001b[0m\u001b[0;34m\u001b[0m\u001b[0m\n\u001b[1;32m      2\u001b[0m \u001b[0;32mfor\u001b[0m \u001b[0mi\u001b[0m \u001b[0;32min\u001b[0m \u001b[0mrange\u001b[0m\u001b[0;34m(\u001b[0m\u001b[0mdf_dist\u001b[0m\u001b[0;34m.\u001b[0m\u001b[0mshape\u001b[0m\u001b[0;34m[\u001b[0m\u001b[0;36m0\u001b[0m\u001b[0;34m]\u001b[0m\u001b[0;34m)\u001b[0m\u001b[0;34m:\u001b[0m\u001b[0;34m\u001b[0m\u001b[0m\n\u001b[0;32m----> 3\u001b[0;31m     \u001b[0;32mfor\u001b[0m \u001b[0mitem\u001b[0m \u001b[0;32min\u001b[0m \u001b[0mdf_dist\u001b[0m\u001b[0;34m[\u001b[0m\u001b[0mi\u001b[0m\u001b[0;34m]\u001b[0m\u001b[0;34m:\u001b[0m\u001b[0;34m\u001b[0m\u001b[0m\n\u001b[0m\u001b[1;32m      4\u001b[0m         \u001b[0;32mfor\u001b[0m \u001b[0mj\u001b[0m \u001b[0;32min\u001b[0m \u001b[0mrange\u001b[0m\u001b[0;34m(\u001b[0m\u001b[0mlen\u001b[0m\u001b[0;34m(\u001b[0m\u001b[0mindex\u001b[0m\u001b[0;34m)\u001b[0m\u001b[0;34m)\u001b[0m\u001b[0;34m:\u001b[0m\u001b[0;34m\u001b[0m\u001b[0m\n\u001b[1;32m      5\u001b[0m             \u001b[0;32mif\u001b[0m \u001b[0mj\u001b[0m \u001b[0;34m==\u001b[0m \u001b[0;36m0\u001b[0m\u001b[0;34m:\u001b[0m\u001b[0;34m\u001b[0m\u001b[0m\n",
      "\u001b[0;32m//anaconda/lib/python3.5/site-packages/pandas/core/frame.py\u001b[0m in \u001b[0;36m__getitem__\u001b[0;34m(self, key)\u001b[0m\n\u001b[1;32m   1995\u001b[0m             \u001b[0;32mreturn\u001b[0m \u001b[0mself\u001b[0m\u001b[0;34m.\u001b[0m\u001b[0m_getitem_multilevel\u001b[0m\u001b[0;34m(\u001b[0m\u001b[0mkey\u001b[0m\u001b[0;34m)\u001b[0m\u001b[0;34m\u001b[0m\u001b[0m\n\u001b[1;32m   1996\u001b[0m         \u001b[0;32melse\u001b[0m\u001b[0;34m:\u001b[0m\u001b[0;34m\u001b[0m\u001b[0m\n\u001b[0;32m-> 1997\u001b[0;31m             \u001b[0;32mreturn\u001b[0m \u001b[0mself\u001b[0m\u001b[0;34m.\u001b[0m\u001b[0m_getitem_column\u001b[0m\u001b[0;34m(\u001b[0m\u001b[0mkey\u001b[0m\u001b[0;34m)\u001b[0m\u001b[0;34m\u001b[0m\u001b[0m\n\u001b[0m\u001b[1;32m   1998\u001b[0m \u001b[0;34m\u001b[0m\u001b[0m\n\u001b[1;32m   1999\u001b[0m     \u001b[0;32mdef\u001b[0m \u001b[0m_getitem_column\u001b[0m\u001b[0;34m(\u001b[0m\u001b[0mself\u001b[0m\u001b[0;34m,\u001b[0m \u001b[0mkey\u001b[0m\u001b[0;34m)\u001b[0m\u001b[0;34m:\u001b[0m\u001b[0;34m\u001b[0m\u001b[0m\n",
      "\u001b[0;32m//anaconda/lib/python3.5/site-packages/pandas/core/frame.py\u001b[0m in \u001b[0;36m_getitem_column\u001b[0;34m(self, key)\u001b[0m\n\u001b[1;32m   2002\u001b[0m         \u001b[0;31m# get column\u001b[0m\u001b[0;34m\u001b[0m\u001b[0;34m\u001b[0m\u001b[0m\n\u001b[1;32m   2003\u001b[0m         \u001b[0;32mif\u001b[0m \u001b[0mself\u001b[0m\u001b[0;34m.\u001b[0m\u001b[0mcolumns\u001b[0m\u001b[0;34m.\u001b[0m\u001b[0mis_unique\u001b[0m\u001b[0;34m:\u001b[0m\u001b[0;34m\u001b[0m\u001b[0m\n\u001b[0;32m-> 2004\u001b[0;31m             \u001b[0;32mreturn\u001b[0m \u001b[0mself\u001b[0m\u001b[0;34m.\u001b[0m\u001b[0m_get_item_cache\u001b[0m\u001b[0;34m(\u001b[0m\u001b[0mkey\u001b[0m\u001b[0;34m)\u001b[0m\u001b[0;34m\u001b[0m\u001b[0m\n\u001b[0m\u001b[1;32m   2005\u001b[0m \u001b[0;34m\u001b[0m\u001b[0m\n\u001b[1;32m   2006\u001b[0m         \u001b[0;31m# duplicate columns & possible reduce dimensionality\u001b[0m\u001b[0;34m\u001b[0m\u001b[0;34m\u001b[0m\u001b[0m\n",
      "\u001b[0;32m//anaconda/lib/python3.5/site-packages/pandas/core/generic.py\u001b[0m in \u001b[0;36m_get_item_cache\u001b[0;34m(self, item)\u001b[0m\n\u001b[1;32m   1348\u001b[0m         \u001b[0mres\u001b[0m \u001b[0;34m=\u001b[0m \u001b[0mcache\u001b[0m\u001b[0;34m.\u001b[0m\u001b[0mget\u001b[0m\u001b[0;34m(\u001b[0m\u001b[0mitem\u001b[0m\u001b[0;34m)\u001b[0m\u001b[0;34m\u001b[0m\u001b[0m\n\u001b[1;32m   1349\u001b[0m         \u001b[0;32mif\u001b[0m \u001b[0mres\u001b[0m \u001b[0;32mis\u001b[0m \u001b[0;32mNone\u001b[0m\u001b[0;34m:\u001b[0m\u001b[0;34m\u001b[0m\u001b[0m\n\u001b[0;32m-> 1350\u001b[0;31m             \u001b[0mvalues\u001b[0m \u001b[0;34m=\u001b[0m \u001b[0mself\u001b[0m\u001b[0;34m.\u001b[0m\u001b[0m_data\u001b[0m\u001b[0;34m.\u001b[0m\u001b[0mget\u001b[0m\u001b[0;34m(\u001b[0m\u001b[0mitem\u001b[0m\u001b[0;34m)\u001b[0m\u001b[0;34m\u001b[0m\u001b[0m\n\u001b[0m\u001b[1;32m   1351\u001b[0m             \u001b[0mres\u001b[0m \u001b[0;34m=\u001b[0m \u001b[0mself\u001b[0m\u001b[0;34m.\u001b[0m\u001b[0m_box_item_values\u001b[0m\u001b[0;34m(\u001b[0m\u001b[0mitem\u001b[0m\u001b[0;34m,\u001b[0m \u001b[0mvalues\u001b[0m\u001b[0;34m)\u001b[0m\u001b[0;34m\u001b[0m\u001b[0m\n\u001b[1;32m   1352\u001b[0m             \u001b[0mcache\u001b[0m\u001b[0;34m[\u001b[0m\u001b[0mitem\u001b[0m\u001b[0;34m]\u001b[0m \u001b[0;34m=\u001b[0m \u001b[0mres\u001b[0m\u001b[0;34m\u001b[0m\u001b[0m\n",
      "\u001b[0;32m//anaconda/lib/python3.5/site-packages/pandas/core/internals.py\u001b[0m in \u001b[0;36mget\u001b[0;34m(self, item, fastpath)\u001b[0m\n\u001b[1;32m   3288\u001b[0m \u001b[0;34m\u001b[0m\u001b[0m\n\u001b[1;32m   3289\u001b[0m             \u001b[0;32mif\u001b[0m \u001b[0;32mnot\u001b[0m \u001b[0misnull\u001b[0m\u001b[0;34m(\u001b[0m\u001b[0mitem\u001b[0m\u001b[0;34m)\u001b[0m\u001b[0;34m:\u001b[0m\u001b[0;34m\u001b[0m\u001b[0m\n\u001b[0;32m-> 3290\u001b[0;31m                 \u001b[0mloc\u001b[0m \u001b[0;34m=\u001b[0m \u001b[0mself\u001b[0m\u001b[0;34m.\u001b[0m\u001b[0mitems\u001b[0m\u001b[0;34m.\u001b[0m\u001b[0mget_loc\u001b[0m\u001b[0;34m(\u001b[0m\u001b[0mitem\u001b[0m\u001b[0;34m)\u001b[0m\u001b[0;34m\u001b[0m\u001b[0m\n\u001b[0m\u001b[1;32m   3291\u001b[0m             \u001b[0;32melse\u001b[0m\u001b[0;34m:\u001b[0m\u001b[0;34m\u001b[0m\u001b[0m\n\u001b[1;32m   3292\u001b[0m                 \u001b[0mindexer\u001b[0m \u001b[0;34m=\u001b[0m \u001b[0mnp\u001b[0m\u001b[0;34m.\u001b[0m\u001b[0marange\u001b[0m\u001b[0;34m(\u001b[0m\u001b[0mlen\u001b[0m\u001b[0;34m(\u001b[0m\u001b[0mself\u001b[0m\u001b[0;34m.\u001b[0m\u001b[0mitems\u001b[0m\u001b[0;34m)\u001b[0m\u001b[0;34m)\u001b[0m\u001b[0;34m[\u001b[0m\u001b[0misnull\u001b[0m\u001b[0;34m(\u001b[0m\u001b[0mself\u001b[0m\u001b[0;34m.\u001b[0m\u001b[0mitems\u001b[0m\u001b[0;34m)\u001b[0m\u001b[0;34m]\u001b[0m\u001b[0;34m\u001b[0m\u001b[0m\n",
      "\u001b[0;32m//anaconda/lib/python3.5/site-packages/pandas/indexes/base.py\u001b[0m in \u001b[0;36mget_loc\u001b[0;34m(self, key, method, tolerance)\u001b[0m\n\u001b[1;32m   1945\u001b[0m                 \u001b[0;32mreturn\u001b[0m \u001b[0mself\u001b[0m\u001b[0;34m.\u001b[0m\u001b[0m_engine\u001b[0m\u001b[0;34m.\u001b[0m\u001b[0mget_loc\u001b[0m\u001b[0;34m(\u001b[0m\u001b[0mkey\u001b[0m\u001b[0;34m)\u001b[0m\u001b[0;34m\u001b[0m\u001b[0m\n\u001b[1;32m   1946\u001b[0m             \u001b[0;32mexcept\u001b[0m \u001b[0mKeyError\u001b[0m\u001b[0;34m:\u001b[0m\u001b[0;34m\u001b[0m\u001b[0m\n\u001b[0;32m-> 1947\u001b[0;31m                 \u001b[0;32mreturn\u001b[0m \u001b[0mself\u001b[0m\u001b[0;34m.\u001b[0m\u001b[0m_engine\u001b[0m\u001b[0;34m.\u001b[0m\u001b[0mget_loc\u001b[0m\u001b[0;34m(\u001b[0m\u001b[0mself\u001b[0m\u001b[0;34m.\u001b[0m\u001b[0m_maybe_cast_indexer\u001b[0m\u001b[0;34m(\u001b[0m\u001b[0mkey\u001b[0m\u001b[0;34m)\u001b[0m\u001b[0;34m)\u001b[0m\u001b[0;34m\u001b[0m\u001b[0m\n\u001b[0m\u001b[1;32m   1948\u001b[0m \u001b[0;34m\u001b[0m\u001b[0m\n\u001b[1;32m   1949\u001b[0m         \u001b[0mindexer\u001b[0m \u001b[0;34m=\u001b[0m \u001b[0mself\u001b[0m\u001b[0;34m.\u001b[0m\u001b[0mget_indexer\u001b[0m\u001b[0;34m(\u001b[0m\u001b[0;34m[\u001b[0m\u001b[0mkey\u001b[0m\u001b[0;34m]\u001b[0m\u001b[0;34m,\u001b[0m \u001b[0mmethod\u001b[0m\u001b[0;34m=\u001b[0m\u001b[0mmethod\u001b[0m\u001b[0;34m,\u001b[0m \u001b[0mtolerance\u001b[0m\u001b[0;34m=\u001b[0m\u001b[0mtolerance\u001b[0m\u001b[0;34m)\u001b[0m\u001b[0;34m\u001b[0m\u001b[0m\n",
      "\u001b[0;32mpandas/index.pyx\u001b[0m in \u001b[0;36mpandas.index.IndexEngine.get_loc (pandas/index.c:4154)\u001b[0;34m()\u001b[0m\n",
      "\u001b[0;32mpandas/index.pyx\u001b[0m in \u001b[0;36mpandas.index.IndexEngine.get_loc (pandas/index.c:4018)\u001b[0;34m()\u001b[0m\n",
      "\u001b[0;32mpandas/hashtable.pyx\u001b[0m in \u001b[0;36mpandas.hashtable.Int64HashTable.get_item (pandas/hashtable.c:6610)\u001b[0;34m()\u001b[0m\n",
      "\u001b[0;32mpandas/hashtable.pyx\u001b[0m in \u001b[0;36mpandas.hashtable.Int64HashTable.get_item (pandas/hashtable.c:6554)\u001b[0;34m()\u001b[0m\n",
      "\u001b[0;31mKeyError\u001b[0m: 20"
     ]
    }
   ],
   "source": [
    "count = [0]*195\n",
    "for i in range(df_dist.shape[0]):\n",
    "    for item in df_dist[i]:\n",
    "        for j in range(len(index)):\n",
    "            if j == 0:\n",
    "                if item < index[j]:\n",
    "                    count[j]+=1\n",
    "                continue\n",
    "            if j == len(index)-1:\n",
    "                if item >= index[j]:\n",
    "                    count[j]+=1\n",
    "                continue\n",
    "            if item >= index[j] and item <index[j+1]:\n",
    "                count[j]+=1"
   ]
  },
  {
   "cell_type": "code",
   "execution_count": null,
   "metadata": {
    "collapsed": true
   },
   "outputs": [],
   "source": [
    "print(count)"
   ]
  },
  {
   "cell_type": "code",
   "execution_count": 24,
   "metadata": {
    "collapsed": true
   },
   "outputs": [],
   "source": [
    "log1 = np.loadtxt('../results/mylogaa.txt')\n",
    "log2 = np.loadtxt('../results/mylogab.txt')\n",
    "log3 = np.loadtxt('../results/mylogac.txt')\n",
    "log4 = np.loadtxt('../results/mylogad.txt')\n",
    "log5 = np.loadtxt('../results/mylogae.txt')\n",
    "log6 = np.loadtxt('../results/mylogaf.txt')\n",
    "total = np.vstack( (log1, log2, log3, log4, log5, log6) )\n",
    "np.save('../results/total.npy', total)"
   ]
  },
  {
   "cell_type": "code",
   "execution_count": 10,
   "metadata": {
    "collapsed": true
   },
   "outputs": [],
   "source": []
  },
  {
   "cell_type": "code",
   "execution_count": 11,
   "metadata": {
    "collapsed": false
   },
   "outputs": [
    {
     "data": {
      "text/plain": [
       "(1200000, 401)"
      ]
     },
     "execution_count": 11,
     "metadata": {},
     "output_type": "execute_result"
    }
   ],
   "source": [
    "total.shape"
   ]
  },
  {
   "cell_type": "code",
   "execution_count": 14,
   "metadata": {
    "collapsed": false
   },
   "outputs": [
    {
     "data": {
      "text/plain": [
       "(2340373, 400)"
      ]
     },
     "execution_count": 14,
     "metadata": {},
     "output_type": "execute_result"
    }
   ],
   "source": [
    "total = total[:, 1:]\n",
    "total.shape"
   ]
  },
  {
   "cell_type": "code",
   "execution_count": 15,
   "metadata": {
    "collapsed": true
   },
   "outputs": [],
   "source": [
    "np.save('../results/total.npy', total)"
   ]
  },
  {
   "cell_type": "code",
   "execution_count": 2,
   "metadata": {
    "collapsed": true
   },
   "outputs": [],
   "source": [
    "total = np.load('../results/total.npy')"
   ]
  },
  {
   "cell_type": "markdown",
   "metadata": {},
   "source": [
    "### Imagenet_Inner decimals=1"
   ]
  },
  {
   "cell_type": "code",
   "execution_count": 4,
   "metadata": {
    "collapsed": false
   },
   "outputs": [],
   "source": [
    "total_round = np.around(total, decimals=1)"
   ]
  },
  {
   "cell_type": "code",
   "execution_count": 5,
   "metadata": {
    "collapsed": true
   },
   "outputs": [],
   "source": [
    "np.save('../results/total_round.npy', total_round)"
   ]
  },
  {
   "cell_type": "code",
   "execution_count": null,
   "metadata": {
    "collapsed": true
   },
   "outputs": [],
   "source": [
    "total_round = np.load('../results/total_round.npy')"
   ]
  },
  {
   "cell_type": "code",
   "execution_count": 6,
   "metadata": {
    "collapsed": false
   },
   "outputs": [],
   "source": [
    "df_total = pd.DataFrame(total_round)"
   ]
  },
  {
   "cell_type": "code",
   "execution_count": 10,
   "metadata": {
    "collapsed": false
   },
   "outputs": [
    {
     "data": {
      "text/html": [
       "<div>\n",
       "<table border=\"1\" class=\"dataframe\">\n",
       "  <thead>\n",
       "    <tr style=\"text-align: right;\">\n",
       "      <th></th>\n",
       "      <th>0</th>\n",
       "      <th>1</th>\n",
       "      <th>2</th>\n",
       "      <th>3</th>\n",
       "      <th>4</th>\n",
       "      <th>5</th>\n",
       "      <th>6</th>\n",
       "      <th>7</th>\n",
       "      <th>8</th>\n",
       "      <th>9</th>\n",
       "      <th>...</th>\n",
       "      <th>390</th>\n",
       "      <th>391</th>\n",
       "      <th>392</th>\n",
       "      <th>393</th>\n",
       "      <th>394</th>\n",
       "      <th>395</th>\n",
       "      <th>396</th>\n",
       "      <th>397</th>\n",
       "      <th>398</th>\n",
       "      <th>399</th>\n",
       "    </tr>\n",
       "  </thead>\n",
       "  <tbody>\n",
       "    <tr>\n",
       "      <th>0</th>\n",
       "      <td>1.1</td>\n",
       "      <td>0.7</td>\n",
       "      <td>0.4</td>\n",
       "      <td>0.4</td>\n",
       "      <td>0.5</td>\n",
       "      <td>0.8</td>\n",
       "      <td>0.3</td>\n",
       "      <td>0.5</td>\n",
       "      <td>0.8</td>\n",
       "      <td>0.8</td>\n",
       "      <td>...</td>\n",
       "      <td>0.3</td>\n",
       "      <td>0.3</td>\n",
       "      <td>0.3</td>\n",
       "      <td>0.3</td>\n",
       "      <td>0.2</td>\n",
       "      <td>0.3</td>\n",
       "      <td>0.3</td>\n",
       "      <td>0.4</td>\n",
       "      <td>0.4</td>\n",
       "      <td>0.6</td>\n",
       "    </tr>\n",
       "    <tr>\n",
       "      <th>1</th>\n",
       "      <td>1.1</td>\n",
       "      <td>1.0</td>\n",
       "      <td>0.9</td>\n",
       "      <td>0.9</td>\n",
       "      <td>0.9</td>\n",
       "      <td>1.0</td>\n",
       "      <td>0.9</td>\n",
       "      <td>0.9</td>\n",
       "      <td>1.0</td>\n",
       "      <td>0.7</td>\n",
       "      <td>...</td>\n",
       "      <td>0.7</td>\n",
       "      <td>0.6</td>\n",
       "      <td>0.7</td>\n",
       "      <td>0.7</td>\n",
       "      <td>0.7</td>\n",
       "      <td>0.7</td>\n",
       "      <td>0.7</td>\n",
       "      <td>0.8</td>\n",
       "      <td>0.8</td>\n",
       "      <td>0.9</td>\n",
       "    </tr>\n",
       "    <tr>\n",
       "      <th>2</th>\n",
       "      <td>0.6</td>\n",
       "      <td>0.5</td>\n",
       "      <td>0.5</td>\n",
       "      <td>0.5</td>\n",
       "      <td>0.5</td>\n",
       "      <td>0.5</td>\n",
       "      <td>0.5</td>\n",
       "      <td>0.5</td>\n",
       "      <td>0.5</td>\n",
       "      <td>0.6</td>\n",
       "      <td>...</td>\n",
       "      <td>0.5</td>\n",
       "      <td>0.5</td>\n",
       "      <td>0.5</td>\n",
       "      <td>0.5</td>\n",
       "      <td>0.5</td>\n",
       "      <td>0.4</td>\n",
       "      <td>0.5</td>\n",
       "      <td>0.5</td>\n",
       "      <td>0.4</td>\n",
       "      <td>0.5</td>\n",
       "    </tr>\n",
       "    <tr>\n",
       "      <th>3</th>\n",
       "      <td>0.7</td>\n",
       "      <td>0.7</td>\n",
       "      <td>0.7</td>\n",
       "      <td>0.6</td>\n",
       "      <td>0.6</td>\n",
       "      <td>0.7</td>\n",
       "      <td>0.6</td>\n",
       "      <td>0.6</td>\n",
       "      <td>0.7</td>\n",
       "      <td>0.7</td>\n",
       "      <td>...</td>\n",
       "      <td>0.6</td>\n",
       "      <td>0.5</td>\n",
       "      <td>0.5</td>\n",
       "      <td>0.5</td>\n",
       "      <td>0.5</td>\n",
       "      <td>0.6</td>\n",
       "      <td>0.6</td>\n",
       "      <td>0.6</td>\n",
       "      <td>0.5</td>\n",
       "      <td>0.6</td>\n",
       "    </tr>\n",
       "    <tr>\n",
       "      <th>4</th>\n",
       "      <td>0.5</td>\n",
       "      <td>0.2</td>\n",
       "      <td>0.2</td>\n",
       "      <td>0.3</td>\n",
       "      <td>0.2</td>\n",
       "      <td>0.3</td>\n",
       "      <td>0.3</td>\n",
       "      <td>0.3</td>\n",
       "      <td>0.2</td>\n",
       "      <td>0.3</td>\n",
       "      <td>...</td>\n",
       "      <td>0.2</td>\n",
       "      <td>0.1</td>\n",
       "      <td>0.2</td>\n",
       "      <td>0.1</td>\n",
       "      <td>0.1</td>\n",
       "      <td>0.1</td>\n",
       "      <td>0.2</td>\n",
       "      <td>0.2</td>\n",
       "      <td>0.2</td>\n",
       "      <td>0.2</td>\n",
       "    </tr>\n",
       "  </tbody>\n",
       "</table>\n",
       "<p>5 rows × 400 columns</p>\n",
       "</div>"
      ],
      "text/plain": [
       "   0    1    2    3    4    5    6    7    8    9   ...   390  391  392  393  \\\n",
       "0  1.1  0.7  0.4  0.4  0.5  0.8  0.3  0.5  0.8  0.8 ...   0.3  0.3  0.3  0.3   \n",
       "1  1.1  1.0  0.9  0.9  0.9  1.0  0.9  0.9  1.0  0.7 ...   0.7  0.6  0.7  0.7   \n",
       "2  0.6  0.5  0.5  0.5  0.5  0.5  0.5  0.5  0.5  0.6 ...   0.5  0.5  0.5  0.5   \n",
       "3  0.7  0.7  0.7  0.6  0.6  0.7  0.6  0.6  0.7  0.7 ...   0.6  0.5  0.5  0.5   \n",
       "4  0.5  0.2  0.2  0.3  0.2  0.3  0.3  0.3  0.2  0.3 ...   0.2  0.1  0.2  0.1   \n",
       "\n",
       "   394  395  396  397  398  399  \n",
       "0  0.2  0.3  0.3  0.4  0.4  0.6  \n",
       "1  0.7  0.7  0.7  0.8  0.8  0.9  \n",
       "2  0.5  0.4  0.5  0.5  0.4  0.5  \n",
       "3  0.5  0.6  0.6  0.6  0.5  0.6  \n",
       "4  0.1  0.1  0.2  0.2  0.2  0.2  \n",
       "\n",
       "[5 rows x 400 columns]"
      ]
     },
     "execution_count": 10,
     "metadata": {},
     "output_type": "execute_result"
    }
   ],
   "source": [
    "df_total.head()"
   ]
  },
  {
   "cell_type": "code",
   "execution_count": 19,
   "metadata": {
    "collapsed": false
   },
   "outputs": [
    {
     "name": "stdout",
     "output_type": "stream",
     "text": [
      "-0.3\n",
      "1.8\n"
     ]
    }
   ],
   "source": [
    "min_value = 10000.0\n",
    "max_value = 0.0\n",
    "\n",
    "for i in range(total_round.shape[0]):\n",
    "#     for item in total_round[i]:\n",
    "    min_value = min(min(total_round[i]), min_value)\n",
    "    max_value = max(max(total_round[i]), max_value)\n",
    "\n",
    "print(min_value)\n",
    "print(max_value)"
   ]
  },
  {
   "cell_type": "code",
   "execution_count": 20,
   "metadata": {
    "collapsed": false
   },
   "outputs": [
    {
     "name": "stdout",
     "output_type": "stream",
     "text": [
      "[0, 0, 0, 0, 0, 0, 0, 0, 0, 0, 0, 0, 0, 0, 0, 0, 0, 0, 0, 0, 0, 0]\n"
     ]
    }
   ],
   "source": [
    "len_ = [0]*22\n",
    "print(len_)"
   ]
  },
  {
   "cell_type": "code",
   "execution_count": 21,
   "metadata": {
    "collapsed": false
   },
   "outputs": [],
   "source": [
    "for i in range(total_round.shape[0]):\n",
    "     for item in total_round[i]:\n",
    "        temp = int(10*item + 3)\n",
    "        len_[temp]+=1"
   ]
  },
  {
   "cell_type": "code",
   "execution_count": 26,
   "metadata": {
    "collapsed": false
   },
   "outputs": [
    {
     "name": "stdout",
     "output_type": "stream",
     "text": [
      "[[        6]\n",
      " [      248]\n",
      " [    14414]\n",
      " [  3437901]\n",
      " [ 37901386]\n",
      " [ 68708403]\n",
      " [108485342]\n",
      " [139742787]\n",
      " [143530696]\n",
      " [126411335]\n",
      " [ 93693193]\n",
      " [ 70598656]\n",
      " [ 71528347]\n",
      " [ 25530000]\n",
      " [ 13890785]\n",
      " [ 10128943]\n",
      " [  8165075]\n",
      " [  8663952]\n",
      " [  4745691]\n",
      " [   857944]\n",
      " [       57]\n",
      " [   114039]]\n"
     ]
    }
   ],
   "source": [
    "print(np.asarray(len_).reshape(22,1))"
   ]
  },
  {
   "cell_type": "markdown",
   "metadata": {},
   "source": [
    "###  Imagenet_Inner  decimals=2"
   ]
  },
  {
   "cell_type": "code",
   "execution_count": 27,
   "metadata": {
    "collapsed": true
   },
   "outputs": [],
   "source": [
    "total_round_2 = np.around(total, decimals=2)\n"
   ]
  },
  {
   "cell_type": "code",
   "execution_count": 34,
   "metadata": {
    "collapsed": false
   },
   "outputs": [
    {
     "data": {
      "text/html": [
       "<div>\n",
       "<table border=\"1\" class=\"dataframe\">\n",
       "  <thead>\n",
       "    <tr style=\"text-align: right;\">\n",
       "      <th></th>\n",
       "      <th>0</th>\n",
       "      <th>1</th>\n",
       "      <th>2</th>\n",
       "      <th>3</th>\n",
       "      <th>4</th>\n",
       "      <th>5</th>\n",
       "      <th>6</th>\n",
       "      <th>7</th>\n",
       "      <th>8</th>\n",
       "      <th>9</th>\n",
       "      <th>...</th>\n",
       "      <th>390</th>\n",
       "      <th>391</th>\n",
       "      <th>392</th>\n",
       "      <th>393</th>\n",
       "      <th>394</th>\n",
       "      <th>395</th>\n",
       "      <th>396</th>\n",
       "      <th>397</th>\n",
       "      <th>398</th>\n",
       "      <th>399</th>\n",
       "    </tr>\n",
       "  </thead>\n",
       "  <tbody>\n",
       "    <tr>\n",
       "      <th>0</th>\n",
       "      <td>1.05</td>\n",
       "      <td>0.74</td>\n",
       "      <td>0.44</td>\n",
       "      <td>0.43</td>\n",
       "      <td>0.50</td>\n",
       "      <td>0.80</td>\n",
       "      <td>0.33</td>\n",
       "      <td>0.48</td>\n",
       "      <td>0.78</td>\n",
       "      <td>0.77</td>\n",
       "      <td>...</td>\n",
       "      <td>0.28</td>\n",
       "      <td>0.29</td>\n",
       "      <td>0.30</td>\n",
       "      <td>0.32</td>\n",
       "      <td>0.17</td>\n",
       "      <td>0.26</td>\n",
       "      <td>0.32</td>\n",
       "      <td>0.36</td>\n",
       "      <td>0.41</td>\n",
       "      <td>0.58</td>\n",
       "    </tr>\n",
       "    <tr>\n",
       "      <th>1</th>\n",
       "      <td>1.08</td>\n",
       "      <td>1.02</td>\n",
       "      <td>0.92</td>\n",
       "      <td>0.88</td>\n",
       "      <td>0.86</td>\n",
       "      <td>1.00</td>\n",
       "      <td>0.91</td>\n",
       "      <td>0.89</td>\n",
       "      <td>0.97</td>\n",
       "      <td>0.70</td>\n",
       "      <td>...</td>\n",
       "      <td>0.72</td>\n",
       "      <td>0.63</td>\n",
       "      <td>0.69</td>\n",
       "      <td>0.66</td>\n",
       "      <td>0.66</td>\n",
       "      <td>0.73</td>\n",
       "      <td>0.73</td>\n",
       "      <td>0.78</td>\n",
       "      <td>0.76</td>\n",
       "      <td>0.86</td>\n",
       "    </tr>\n",
       "    <tr>\n",
       "      <th>2</th>\n",
       "      <td>0.56</td>\n",
       "      <td>0.45</td>\n",
       "      <td>0.47</td>\n",
       "      <td>0.51</td>\n",
       "      <td>0.48</td>\n",
       "      <td>0.53</td>\n",
       "      <td>0.45</td>\n",
       "      <td>0.54</td>\n",
       "      <td>0.48</td>\n",
       "      <td>0.56</td>\n",
       "      <td>...</td>\n",
       "      <td>0.47</td>\n",
       "      <td>0.46</td>\n",
       "      <td>0.49</td>\n",
       "      <td>0.49</td>\n",
       "      <td>0.51</td>\n",
       "      <td>0.44</td>\n",
       "      <td>0.48</td>\n",
       "      <td>0.45</td>\n",
       "      <td>0.36</td>\n",
       "      <td>0.54</td>\n",
       "    </tr>\n",
       "    <tr>\n",
       "      <th>3</th>\n",
       "      <td>0.72</td>\n",
       "      <td>0.66</td>\n",
       "      <td>0.71</td>\n",
       "      <td>0.63</td>\n",
       "      <td>0.62</td>\n",
       "      <td>0.66</td>\n",
       "      <td>0.63</td>\n",
       "      <td>0.64</td>\n",
       "      <td>0.71</td>\n",
       "      <td>0.71</td>\n",
       "      <td>...</td>\n",
       "      <td>0.58</td>\n",
       "      <td>0.52</td>\n",
       "      <td>0.51</td>\n",
       "      <td>0.51</td>\n",
       "      <td>0.51</td>\n",
       "      <td>0.58</td>\n",
       "      <td>0.60</td>\n",
       "      <td>0.60</td>\n",
       "      <td>0.54</td>\n",
       "      <td>0.63</td>\n",
       "    </tr>\n",
       "    <tr>\n",
       "      <th>4</th>\n",
       "      <td>0.53</td>\n",
       "      <td>0.24</td>\n",
       "      <td>0.23</td>\n",
       "      <td>0.28</td>\n",
       "      <td>0.24</td>\n",
       "      <td>0.26</td>\n",
       "      <td>0.32</td>\n",
       "      <td>0.30</td>\n",
       "      <td>0.20</td>\n",
       "      <td>0.33</td>\n",
       "      <td>...</td>\n",
       "      <td>0.15</td>\n",
       "      <td>0.11</td>\n",
       "      <td>0.15</td>\n",
       "      <td>0.15</td>\n",
       "      <td>0.13</td>\n",
       "      <td>0.15</td>\n",
       "      <td>0.15</td>\n",
       "      <td>0.15</td>\n",
       "      <td>0.17</td>\n",
       "      <td>0.23</td>\n",
       "    </tr>\n",
       "  </tbody>\n",
       "</table>\n",
       "<p>5 rows × 400 columns</p>\n",
       "</div>"
      ],
      "text/plain": [
       "    0     1     2     3     4     5     6     7     8     9    ...    390  \\\n",
       "0  1.05  0.74  0.44  0.43  0.50  0.80  0.33  0.48  0.78  0.77  ...   0.28   \n",
       "1  1.08  1.02  0.92  0.88  0.86  1.00  0.91  0.89  0.97  0.70  ...   0.72   \n",
       "2  0.56  0.45  0.47  0.51  0.48  0.53  0.45  0.54  0.48  0.56  ...   0.47   \n",
       "3  0.72  0.66  0.71  0.63  0.62  0.66  0.63  0.64  0.71  0.71  ...   0.58   \n",
       "4  0.53  0.24  0.23  0.28  0.24  0.26  0.32  0.30  0.20  0.33  ...   0.15   \n",
       "\n",
       "    391   392   393   394   395   396   397   398   399  \n",
       "0  0.29  0.30  0.32  0.17  0.26  0.32  0.36  0.41  0.58  \n",
       "1  0.63  0.69  0.66  0.66  0.73  0.73  0.78  0.76  0.86  \n",
       "2  0.46  0.49  0.49  0.51  0.44  0.48  0.45  0.36  0.54  \n",
       "3  0.52  0.51  0.51  0.51  0.58  0.60  0.60  0.54  0.63  \n",
       "4  0.11  0.15  0.15  0.13  0.15  0.15  0.15  0.17  0.23  \n",
       "\n",
       "[5 rows x 400 columns]"
      ]
     },
     "execution_count": 34,
     "metadata": {},
     "output_type": "execute_result"
    }
   ],
   "source": [
    "total_round_2 = total_round_2[:, 1:]\n",
    "df_total = pd.DataFrame(total_round_2)\n",
    "df_total_2 = df_total\n",
    "df_total_2.head()"
   ]
  },
  {
   "cell_type": "code",
   "execution_count": 35,
   "metadata": {
    "collapsed": false
   },
   "outputs": [
    {
     "data": {
      "text/plain": [
       "0.5"
      ]
     },
     "execution_count": 35,
     "metadata": {},
     "output_type": "execute_result"
    }
   ],
   "source": [
    "min(total_round_2[1])"
   ]
  },
  {
   "cell_type": "code",
   "execution_count": 37,
   "metadata": {
    "collapsed": false
   },
   "outputs": [
    {
     "name": "stdout",
     "output_type": "stream",
     "text": [
      "-0.27\n",
      "1.79\n"
     ]
    }
   ],
   "source": [
    "min_value_2 = 1000.0\n",
    "max_value_2 = -1000.0\n",
    "\n",
    "for i in range(total_round_2.shape[0]):\n",
    "#     for item in total_round[i]:\n",
    "    min_value_2 = min(min(total_round_2[i]), min_value_2)\n",
    "    max_value_2 = max(max(total_round_2[i]), max_value_2)\n",
    "\n",
    "print(min_value_2)\n",
    "print(max_value_2)"
   ]
  },
  {
   "cell_type": "code",
   "execution_count": 43,
   "metadata": {
    "collapsed": false
   },
   "outputs": [
    {
     "name": "stdout",
     "output_type": "stream",
     "text": [
      "207\n"
     ]
    }
   ],
   "source": [
    "len_2 = [0]*(int((1.79+0.27)*100)+1)\n",
    "print(len(len_))"
   ]
  },
  {
   "cell_type": "code",
   "execution_count": 44,
   "metadata": {
    "collapsed": false
   },
   "outputs": [],
   "source": [
    "for i in range(total_round_2.shape[0]):\n",
    "     for item in total_round_2[i]:\n",
    "        temp = int(100*item + 27)\n",
    "        len_2[temp]+=1"
   ]
  },
  {
   "cell_type": "code",
   "execution_count": 45,
   "metadata": {
    "collapsed": true
   },
   "outputs": [],
   "source": [
    "df_len_2 = pd.DataFrame(np.asarray(len_2).reshape(len(len_2),1))"
   ]
  },
  {
   "cell_type": "code",
   "execution_count": 47,
   "metadata": {
    "collapsed": true
   },
   "outputs": [],
   "source": [
    "df_len_2.to_csv('../results/nndes_pair_0.01.csv')"
   ]
  },
  {
   "cell_type": "markdown",
   "metadata": {},
   "source": [
    "### netflix_Inner decimal = 2"
   ]
  },
  {
   "cell_type": "code",
   "execution_count": 50,
   "metadata": {
    "collapsed": true
   },
   "outputs": [],
   "source": [
    "np_net = np.loadtxt('../results/log_netflix.txt')"
   ]
  },
  {
   "cell_type": "code",
   "execution_count": 51,
   "metadata": {
    "collapsed": false
   },
   "outputs": [
    {
     "name": "stdout",
     "output_type": "stream",
     "text": [
      "(17770, 400)\n"
     ]
    }
   ],
   "source": [
    "np_net = np_net[:,1:]\n",
    "print(np_net.shape)"
   ]
  },
  {
   "cell_type": "code",
   "execution_count": 55,
   "metadata": {
    "collapsed": false
   },
   "outputs": [
    {
     "name": "stdout",
     "output_type": "stream",
     "text": [
      "1.51\n",
      "6.23\n"
     ]
    }
   ],
   "source": [
    "np_net_round_2 = np.around(np_net, decimals=2)\n",
    "\n",
    "min_net_2 = 1000.0\n",
    "max_net_2 = -1000.0\n",
    "\n",
    "for i in range(np_net_round_2.shape[0]):\n",
    "#     for item in total_round[i]:\n",
    "    min_net_2 = min(min(np_net_round_2[i]), min_net_2)\n",
    "    max_net_2 = max(max(np_net_round_2[i]), max_net_2)\n",
    "\n",
    "print(min_net_2)\n",
    "print(max_net_2)"
   ]
  },
  {
   "cell_type": "code",
   "execution_count": 57,
   "metadata": {
    "collapsed": false
   },
   "outputs": [
    {
     "name": "stdout",
     "output_type": "stream",
     "text": [
      "473\n"
     ]
    }
   ],
   "source": [
    "len_net = [0]*(int((max_net_2-min_net_2)*100)+1)\n",
    "print(len(len_net))\n",
    "\n",
    "for i in range(np_net_round_2.shape[0]):\n",
    "     for item in np_net_round_2[i]:\n",
    "        temp = int(100*item - 151)\n",
    "        len_net[temp]+=1\n",
    "        \n",
    "df_net_len = pd.DataFrame(np.asarray(len_net).reshape(len(len_net),1))\n",
    "\n",
    "df_net_len.head()\n",
    "df_net_len.to_csv('../results/nndes_pair_netflix_0.01.csv')"
   ]
  },
  {
   "cell_type": "markdown",
   "metadata": {},
   "source": [
    "### netflix_L2"
   ]
  },
  {
   "cell_type": "code",
   "execution_count": 63,
   "metadata": {
    "collapsed": true
   },
   "outputs": [],
   "source": [
    "np_net_l2 = np.loadtxt('../results/log_L2_netflix.txt')"
   ]
  },
  {
   "cell_type": "code",
   "execution_count": 65,
   "metadata": {
    "collapsed": false
   },
   "outputs": [
    {
     "name": "stdout",
     "output_type": "stream",
     "text": [
      "(17770, 400)\n"
     ]
    }
   ],
   "source": [
    "np_net_l2 = np_net_l2[:,1:]\n",
    "print(np_net_l2.shape)"
   ]
  },
  {
   "cell_type": "code",
   "execution_count": 67,
   "metadata": {
    "collapsed": false
   },
   "outputs": [],
   "source": [
    "np_net_l2_round_2 = np.around(np_net_l2, decimals=2)"
   ]
  },
  {
   "cell_type": "code",
   "execution_count": 70,
   "metadata": {
    "collapsed": false
   },
   "outputs": [
    {
     "name": "stdout",
     "output_type": "stream",
     "text": [
      "0.0\n",
      "0.95\n"
     ]
    }
   ],
   "source": [
    "min_net_l2_2 = 1000.0\n",
    "max_net_l2_2 = -1000.0\n",
    "\n",
    "for i in range(np_net_l2_round_2.shape[0]):\n",
    "#     for item in total_round[i]:\n",
    "    min_net_l2_2 = min(min(np_net_l2_round_2[i]), min_net_l2_2)\n",
    "    max_net_l2_2 = max(max(np_net_l2_round_2[i]), max_net_l2_2)\n",
    "\n",
    "print(min_net_l2_2)\n",
    "print(max_net_l2_2)"
   ]
  },
  {
   "cell_type": "code",
   "execution_count": 71,
   "metadata": {
    "collapsed": false
   },
   "outputs": [
    {
     "name": "stdout",
     "output_type": "stream",
     "text": [
      "96\n"
     ]
    }
   ],
   "source": [
    "len_net_l2 = [0]*(int((max_net_l2_2-min_net_l2_2)*100)+1)\n",
    "print(len(len_net_l2))"
   ]
  },
  {
   "cell_type": "code",
   "execution_count": 72,
   "metadata": {
    "collapsed": true
   },
   "outputs": [],
   "source": [
    "for i in range(np_net_l2_round_2.shape[0]):\n",
    "     for item in np_net_l2_round_2[i]:\n",
    "        temp = int(100*item)\n",
    "        len_net_l2[temp]+=1\n",
    "        \n",
    "df_net_len_l2 = pd.DataFrame(np.asarray(len_net_l2).reshape(len(len_net_l2),1))"
   ]
  },
  {
   "cell_type": "code",
   "execution_count": 74,
   "metadata": {
    "collapsed": false
   },
   "outputs": [],
   "source": [
    "df_net_len_l2.head()\n",
    "df_net_len_l2.to_csv('../results/nndes_L2_netflix.csv')"
   ]
  },
  {
   "cell_type": "markdown",
   "metadata": {
    "collapsed": true
   },
   "source": [
    "### Imagenet_L2"
   ]
  },
  {
   "cell_type": "code",
   "execution_count": 4,
   "metadata": {
    "collapsed": true
   },
   "outputs": [],
   "source": [
    "log1 = np.loadtxt('/Volumes/SanDisk/Data/imagenetaa')\n",
    "log2 = np.loadtxt('/Volumes/SanDisk/Data/imagenetab')\n",
    "log3 = np.loadtxt('/Volumes/SanDisk/Data/imagenetac')\n",
    "log4 = np.loadtxt('/Volumes/SanDisk/Data/imagenetad')\n",
    "total = np.vstack( (log1, log2, log3, log4) )"
   ]
  },
  {
   "cell_type": "code",
   "execution_count": 5,
   "metadata": {
    "collapsed": false
   },
   "outputs": [
    {
     "data": {
      "text/plain": [
       "(2340373, 400)"
      ]
     },
     "execution_count": 5,
     "metadata": {},
     "output_type": "execute_result"
    }
   ],
   "source": [
    "total = total[:, 1:]\n",
    "total.shape"
   ]
  },
  {
   "cell_type": "code",
   "execution_count": 6,
   "metadata": {
    "collapsed": true
   },
   "outputs": [],
   "source": [
    "np.save('../results/imagenet_l2.npy', total)"
   ]
  },
  {
   "cell_type": "code",
   "execution_count": 2,
   "metadata": {
    "collapsed": true
   },
   "outputs": [],
   "source": [
    "total = np.load('/Volumes/SanDisk/Data/imagenet_l2.npy')"
   ]
  },
  {
   "cell_type": "code",
   "execution_count": 3,
   "metadata": {
    "collapsed": false
   },
   "outputs": [
    {
     "data": {
      "text/plain": [
       "array([0.      , 0.937704, 0.913075, 0.897557, 0.837977, 0.83145 ,\n",
       "       0.939772, 0.81712 , 0.908543, 0.971902, 1.04343 , 0.710669,\n",
       "       1.04637 , 0.796633, 0.957687, 0.924733, 0.858781, 0.738458,\n",
       "       0.912353, 0.953461, 0.937704, 0.      , 1.01337 , 1.0078  ,\n",
       "       1.05717 , 0.851988, 0.851855, 0.951135, 1.08507 , 0.9966  ,\n",
       "       1.0336  , 0.83963 , 0.80819 , 0.988616, 0.985463, 1.16259 ,\n",
       "       1.01644 , 0.908723, 0.89253 , 1.03391 , 0.913075, 1.01337 ,\n",
       "       0.      , 1.08154 , 0.689313, 0.971306, 0.9882  , 0.890602,\n",
       "       1.1108  , 1.01476 , 0.96573 , 1.0147  , 1.07412 , 0.701015,\n",
       "       0.921436, 0.988701, 1.12971 , 0.912001, 1.01638 , 0.894376,\n",
       "       0.897557, 1.0078  , 1.08154 , 0.      , 0.949561, 0.85923 ,\n",
       "       0.820802, 0.872019, 1.05686 , 0.873677, 0.874927, 0.826809,\n",
       "       0.90903 , 0.973414, 0.736063, 0.856822, 0.669703, 0.935414,\n",
       "       0.84417 , 1.01277 , 0.837977, 1.05717 , 0.689313, 0.949561,\n",
       "       0.      , 0.903017, 0.90489 , 0.83224 , 0.942443, 0.902352,\n",
       "       0.908335, 0.868311, 1.07388 , 0.775642, 1.01298 , 0.86    ,\n",
       "       0.905051, 0.927274, 1.07296 , 0.880446, 0.83145 , 0.851988,\n",
       "       0.971306, 0.85923 , 0.903017, 0.      , 0.885179, 0.885657,\n",
       "       1.13122 , 0.942744, 0.94587 , 0.783185, 0.939666, 0.835825,\n",
       "       0.856878, 0.935418, 0.768735, 0.960137, 0.920438, 1.03263 ,\n",
       "       0.939772, 0.851855, 0.9882  , 0.820802, 0.90489 , 0.885179,\n",
       "       0.      , 0.871753, 1.07378 , 0.810134, 0.847205, 0.900646,\n",
       "       0.793588, 1.00541 , 0.836061, 1.07838 , 0.753497, 0.857447,\n",
       "       0.825754, 1.03238 , 0.81712 , 0.951135, 0.890602, 0.872019,\n",
       "       0.83224 , 0.885657, 0.871753, 0.      , 0.973171, 0.813721,\n",
       "       1.01245 , 0.866982, 0.864811, 0.763013, 0.964721, 0.933144,\n",
       "       0.790506, 0.600105, 0.979715, 0.955636, 0.908543, 1.08507 ,\n",
       "       1.1108  , 1.05686 , 0.942443, 1.13122 , 1.07378 , 0.973171,\n",
       "       0.      , 1.07422 , 1.20533 , 0.976301, 1.20617 , 1.02935 ,\n",
       "       1.17453 , 1.053   , 1.08743 , 1.01718 , 1.12941 , 1.0652  ,\n",
       "       0.971902, 0.9966  , 1.01476 , 0.873677, 0.902352, 0.942744,\n",
       "       0.810134, 0.813721, 1.07422 , 0.      , 1.01627 , 0.93626 ,\n",
       "       1.02702 , 0.997181, 0.929225, 1.02464 , 0.937629, 0.892962,\n",
       "       1.03901 , 0.948975, 1.04343 , 1.0336  , 0.96573 , 0.874927,\n",
       "       0.908335, 0.94587 , 0.847205, 1.01245 , 1.20533 , 1.01627 ,\n",
       "       0.      , 1.04114 , 0.918144, 1.1337  , 0.890868, 1.05939 ,\n",
       "       0.847781, 1.10791 , 0.949524, 0.862666, 0.710669, 0.83963 ,\n",
       "       1.0147  , 0.826809, 0.868311, 0.783185, 0.900646, 0.866982,\n",
       "       0.976301, 0.93626 , 1.04114 , 0.      , 1.0341  , 0.934108,\n",
       "       0.982319, 0.792586, 0.812555, 0.887783, 0.861205, 0.942728,\n",
       "       1.04637 , 0.80819 , 1.07412 , 0.90903 , 1.07388 , 0.939666,\n",
       "       0.793588, 0.864811, 1.20617 , 1.02702 , 0.918144, 1.0341  ,\n",
       "       0.      , 1.16438 , 1.01396 , 1.16648 , 0.940734, 0.829189,\n",
       "       1.00224 , 1.19764 , 0.796633, 0.988616, 0.701015, 0.973414,\n",
       "       0.775642, 0.835825, 1.00541 , 0.763013, 1.02935 , 0.997181,\n",
       "       1.1337  , 0.934108, 1.16438 , 0.      , 0.896174, 0.91234 ,\n",
       "       0.96003 , 0.896877, 0.948437, 1.01199 , 0.957687, 0.985463,\n",
       "       0.921436, 0.736063, 1.01298 , 0.856878, 0.836061, 0.964721,\n",
       "       1.17453 , 0.929225, 0.890868, 0.982319, 1.01396 , 0.896174,\n",
       "       0.      , 1.01345 , 0.923621, 1.04022 , 0.770475, 1.02618 ,\n",
       "       0.924733, 1.16259 , 0.988701, 0.856822, 0.86    , 0.935418,\n",
       "       1.07838 , 0.933144, 1.053   , 1.02464 , 1.05939 , 0.792586,\n",
       "       1.16648 , 0.91234 , 1.01345 , 0.      , 0.835386, 1.10383 ,\n",
       "       0.925445, 0.96804 , 0.858781, 1.01644 , 1.12971 , 0.669703,\n",
       "       0.905051, 0.768735, 0.753497, 0.790506, 1.08743 , 0.937629,\n",
       "       0.847781, 0.812555, 0.940734, 0.96003 , 0.923621, 0.835386,\n",
       "       0.      , 0.905226, 0.877657, 1.04612 , 0.738458, 0.908723,\n",
       "       0.912001, 0.935414, 0.927274, 0.960137, 0.857447, 0.600105,\n",
       "       1.01718 , 0.892962, 1.10791 , 0.887783, 0.829189, 0.896877,\n",
       "       1.04022 , 1.10383 , 0.905226, 0.      , 1.0383  , 1.06075 ,\n",
       "       0.912353, 0.89253 , 1.01638 , 0.84417 , 1.07296 , 0.920438,\n",
       "       0.825754, 0.979715, 1.12941 , 1.03901 , 0.949524, 0.861205,\n",
       "       1.00224 , 0.948437, 0.770475, 0.925445, 0.877657, 1.0383  ,\n",
       "       0.      , 1.06404 , 0.953461, 1.03391 , 0.894376, 1.01277 ,\n",
       "       0.880446, 1.03263 , 1.03238 , 0.955636, 1.0652  , 0.948975,\n",
       "       0.862666, 0.942728, 1.19764 , 1.01199 , 1.02618 , 0.96804 ,\n",
       "       1.04612 , 1.06075 , 1.06404 , 0.      ])"
      ]
     },
     "execution_count": 3,
     "metadata": {},
     "output_type": "execute_result"
    }
   ],
   "source": [
    "total[1]"
   ]
  },
  {
   "cell_type": "code",
   "execution_count": 4,
   "metadata": {
    "collapsed": true
   },
   "outputs": [],
   "source": [
    "total_round = np.around(total, decimals=2)"
   ]
  },
  {
   "cell_type": "code",
   "execution_count": 6,
   "metadata": {
    "collapsed": true
   },
   "outputs": [],
   "source": [
    "df_round = pd.DataFrame(total_round)"
   ]
  },
  {
   "cell_type": "code",
   "execution_count": null,
   "metadata": {
    "collapsed": false
   },
   "outputs": [],
   "source": []
  },
  {
   "cell_type": "code",
   "execution_count": 18,
   "metadata": {
    "collapsed": false
   },
   "outputs": [
    {
     "name": "stdout",
     "output_type": "stream",
     "text": [
      "[0, 21, 42, 63, 84, 105, 126, 147, 168, 189, 210, 231, 252, 273, 294, 315, 336, 357, 378, 399]\n"
     ]
    }
   ],
   "source": [
    "len_ = []\n",
    "list_ = list(df_round.ix[0])\n",
    "# print(list_)\n",
    "for i in range(len(list_)):\n",
    "    if list_[i] == 0.0:\n",
    "        len_.append(i)\n",
    "print(len_)"
   ]
  },
  {
   "cell_type": "code",
   "execution_count": 19,
   "metadata": {
    "collapsed": false
   },
   "outputs": [
    {
     "data": {
      "text/html": [
       "<div>\n",
       "<table border=\"1\" class=\"dataframe\">\n",
       "  <thead>\n",
       "    <tr style=\"text-align: right;\">\n",
       "      <th></th>\n",
       "      <th>1</th>\n",
       "      <th>2</th>\n",
       "      <th>3</th>\n",
       "      <th>4</th>\n",
       "      <th>5</th>\n",
       "      <th>6</th>\n",
       "      <th>7</th>\n",
       "      <th>8</th>\n",
       "      <th>9</th>\n",
       "      <th>10</th>\n",
       "      <th>...</th>\n",
       "      <th>389</th>\n",
       "      <th>390</th>\n",
       "      <th>391</th>\n",
       "      <th>392</th>\n",
       "      <th>393</th>\n",
       "      <th>394</th>\n",
       "      <th>395</th>\n",
       "      <th>396</th>\n",
       "      <th>397</th>\n",
       "      <th>398</th>\n",
       "    </tr>\n",
       "  </thead>\n",
       "  <tbody>\n",
       "    <tr>\n",
       "      <th>0</th>\n",
       "      <td>0.81</td>\n",
       "      <td>0.92</td>\n",
       "      <td>0.85</td>\n",
       "      <td>0.85</td>\n",
       "      <td>0.97</td>\n",
       "      <td>0.77</td>\n",
       "      <td>0.87</td>\n",
       "      <td>0.87</td>\n",
       "      <td>0.86</td>\n",
       "      <td>0.89</td>\n",
       "      <td>...</td>\n",
       "      <td>0.73</td>\n",
       "      <td>0.84</td>\n",
       "      <td>0.94</td>\n",
       "      <td>0.86</td>\n",
       "      <td>0.80</td>\n",
       "      <td>0.86</td>\n",
       "      <td>0.94</td>\n",
       "      <td>0.83</td>\n",
       "      <td>0.85</td>\n",
       "      <td>0.96</td>\n",
       "    </tr>\n",
       "    <tr>\n",
       "      <th>1</th>\n",
       "      <td>0.94</td>\n",
       "      <td>0.91</td>\n",
       "      <td>0.90</td>\n",
       "      <td>0.84</td>\n",
       "      <td>0.83</td>\n",
       "      <td>0.94</td>\n",
       "      <td>0.82</td>\n",
       "      <td>0.91</td>\n",
       "      <td>0.97</td>\n",
       "      <td>1.04</td>\n",
       "      <td>...</td>\n",
       "      <td>0.95</td>\n",
       "      <td>0.86</td>\n",
       "      <td>0.94</td>\n",
       "      <td>1.20</td>\n",
       "      <td>1.01</td>\n",
       "      <td>1.03</td>\n",
       "      <td>0.97</td>\n",
       "      <td>1.05</td>\n",
       "      <td>1.06</td>\n",
       "      <td>1.06</td>\n",
       "    </tr>\n",
       "    <tr>\n",
       "      <th>2</th>\n",
       "      <td>0.61</td>\n",
       "      <td>0.63</td>\n",
       "      <td>0.82</td>\n",
       "      <td>0.71</td>\n",
       "      <td>0.59</td>\n",
       "      <td>0.75</td>\n",
       "      <td>0.79</td>\n",
       "      <td>0.75</td>\n",
       "      <td>0.71</td>\n",
       "      <td>0.56</td>\n",
       "      <td>...</td>\n",
       "      <td>0.71</td>\n",
       "      <td>0.63</td>\n",
       "      <td>0.57</td>\n",
       "      <td>0.72</td>\n",
       "      <td>0.76</td>\n",
       "      <td>0.78</td>\n",
       "      <td>0.65</td>\n",
       "      <td>0.74</td>\n",
       "      <td>0.72</td>\n",
       "      <td>0.73</td>\n",
       "    </tr>\n",
       "    <tr>\n",
       "      <th>3</th>\n",
       "      <td>0.66</td>\n",
       "      <td>0.75</td>\n",
       "      <td>0.82</td>\n",
       "      <td>0.78</td>\n",
       "      <td>0.71</td>\n",
       "      <td>0.80</td>\n",
       "      <td>0.75</td>\n",
       "      <td>0.71</td>\n",
       "      <td>0.72</td>\n",
       "      <td>0.78</td>\n",
       "      <td>...</td>\n",
       "      <td>0.72</td>\n",
       "      <td>0.78</td>\n",
       "      <td>0.87</td>\n",
       "      <td>0.76</td>\n",
       "      <td>0.78</td>\n",
       "      <td>0.79</td>\n",
       "      <td>0.75</td>\n",
       "      <td>0.81</td>\n",
       "      <td>0.85</td>\n",
       "      <td>0.72</td>\n",
       "    </tr>\n",
       "    <tr>\n",
       "      <th>4</th>\n",
       "      <td>0.73</td>\n",
       "      <td>0.59</td>\n",
       "      <td>0.56</td>\n",
       "      <td>0.64</td>\n",
       "      <td>0.65</td>\n",
       "      <td>0.64</td>\n",
       "      <td>0.63</td>\n",
       "      <td>0.65</td>\n",
       "      <td>0.79</td>\n",
       "      <td>0.47</td>\n",
       "      <td>...</td>\n",
       "      <td>0.69</td>\n",
       "      <td>0.71</td>\n",
       "      <td>0.73</td>\n",
       "      <td>0.65</td>\n",
       "      <td>0.77</td>\n",
       "      <td>0.64</td>\n",
       "      <td>0.65</td>\n",
       "      <td>0.79</td>\n",
       "      <td>0.70</td>\n",
       "      <td>0.68</td>\n",
       "    </tr>\n",
       "  </tbody>\n",
       "</table>\n",
       "<p>5 rows × 380 columns</p>\n",
       "</div>"
      ],
      "text/plain": [
       "    1     2     3     4     5     6     7     8     9     10   ...    389  \\\n",
       "0  0.81  0.92  0.85  0.85  0.97  0.77  0.87  0.87  0.86  0.89  ...   0.73   \n",
       "1  0.94  0.91  0.90  0.84  0.83  0.94  0.82  0.91  0.97  1.04  ...   0.95   \n",
       "2  0.61  0.63  0.82  0.71  0.59  0.75  0.79  0.75  0.71  0.56  ...   0.71   \n",
       "3  0.66  0.75  0.82  0.78  0.71  0.80  0.75  0.71  0.72  0.78  ...   0.72   \n",
       "4  0.73  0.59  0.56  0.64  0.65  0.64  0.63  0.65  0.79  0.47  ...   0.69   \n",
       "\n",
       "    390   391   392   393   394   395   396   397   398  \n",
       "0  0.84  0.94  0.86  0.80  0.86  0.94  0.83  0.85  0.96  \n",
       "1  0.86  0.94  1.20  1.01  1.03  0.97  1.05  1.06  1.06  \n",
       "2  0.63  0.57  0.72  0.76  0.78  0.65  0.74  0.72  0.73  \n",
       "3  0.78  0.87  0.76  0.78  0.79  0.75  0.81  0.85  0.72  \n",
       "4  0.71  0.73  0.65  0.77  0.64  0.65  0.79  0.70  0.68  \n",
       "\n",
       "[5 rows x 380 columns]"
      ]
     },
     "execution_count": 19,
     "metadata": {},
     "output_type": "execute_result"
    }
   ],
   "source": [
    "df_clean = df_round.drop(len_, axis=1)\n",
    "df_clean.head()"
   ]
  },
  {
   "cell_type": "code",
   "execution_count": null,
   "metadata": {
    "collapsed": false
   },
   "outputs": [],
   "source": []
  },
  {
   "cell_type": "code",
   "execution_count": 53,
   "metadata": {
    "collapsed": false
   },
   "outputs": [
    {
     "data": {
      "text/plain": [
       "9"
      ]
     },
     "execution_count": 53,
     "metadata": {},
     "output_type": "execute_result"
    }
   ],
   "source": [
    "df_round[df_round.columns[1]].isnull().sum().sum()"
   ]
  },
  {
   "cell_type": "code",
   "execution_count": 22,
   "metadata": {
    "collapsed": false
   },
   "outputs": [
    {
     "name": "stdout",
     "output_type": "stream",
     "text": [
      "0.0\n",
      "1.68\n"
     ]
    }
   ],
   "source": [
    "min_value = 1000.0\n",
    "max_value = -1000.0\n",
    "\n",
    "for i in range(np_clean.shape[0]):\n",
    "#     for item in total_round[i]:\n",
    "    min_value = min(min(np_clean[i]), min_value)\n",
    "    max_value = max(max(np_clean[i]), max_value)\n",
    "\n",
    "print(min_value)\n",
    "print(max_value)"
   ]
  },
  {
   "cell_type": "code",
   "execution_count": 28,
   "metadata": {
    "collapsed": false
   },
   "outputs": [
    {
     "name": "stdout",
     "output_type": "stream",
     "text": [
      "169\n"
     ]
    },
    {
     "data": {
      "text/plain": [
       "array([0.81, 0.92, 0.85, 0.85, 0.97, 0.77, 0.87, 0.87, 0.86, 0.89, 0.79,\n",
       "       0.8 , 0.97, 0.92, 0.95, 0.89, 0.99, 0.85, 0.9 , 0.81, 0.91, 0.79,\n",
       "       0.7 , 0.88, 0.66, 0.78, 0.71, 0.76, 0.97, 0.66, 0.71, 0.91, 1.03,\n",
       "       1.02, 0.92, 0.78, 0.91, 0.85, 0.92, 0.91, 0.88, 0.92, 0.88, 0.89,\n",
       "       0.95, 0.83, 0.83, 0.96, 1.01, 0.78, 0.79, 0.87, 0.9 , 0.93, 0.85,\n",
       "       0.88, 0.77, 0.85, 0.79, 0.88, 0.67, 0.79, 0.78, 0.79, 0.92, 0.72,\n",
       "       0.83, 0.83, 0.79, 0.92, 0.79, 0.84, 0.78, 0.84, 0.9 , 0.77, 0.85,\n",
       "       0.7 , 0.92, 0.67, 0.89, 0.86, 0.87, 0.75, 0.75, 0.93, 0.67, 0.76,\n",
       "       1.03, 0.9 , 0.98, 1.  , 0.89, 0.86, 0.94, 0.97, 0.88, 0.88, 0.79,\n",
       "       0.89, 0.87, 0.89, 0.93, 0.86, 0.84, 0.91, 0.93, 0.97, 0.69, 0.9 ,\n",
       "       0.88, 0.93, 0.93, 0.87, 0.77, 0.66, 0.89, 0.78, 0.86, 0.87, 0.7 ,\n",
       "       0.95, 0.91, 0.88, 0.78, 0.83, 0.86, 0.95, 0.9 , 0.84, 0.8 , 0.89,\n",
       "       0.79, 0.87, 0.78, 0.95, 0.79, 0.87, 0.89, 0.7 , 0.81, 0.84, 0.75,\n",
       "       0.61, 0.9 , 0.8 , 1.01, 0.97, 0.83, 0.77, 0.92, 0.82, 0.87, 0.71,\n",
       "       0.83, 0.92, 0.75, 0.93, 0.95, 0.81, 0.72, 0.82, 0.8 , 0.83, 0.9 ,\n",
       "       0.99, 1.12, 0.95, 0.87, 0.88, 0.87, 0.86, 0.76, 0.83, 0.72, 0.75,\n",
       "       0.86, 0.91, 0.84, 0.72, 0.85, 0.83, 0.71, 0.82, 0.84, 0.9 , 1.01,\n",
       "       0.83, 1.  , 0.73, 0.89, 0.97, 0.96, 0.83, 0.93, 0.84, 0.88, 0.75,\n",
       "       0.82, 0.85, 0.87, 0.96, 0.89, 0.92, 0.9 , 0.83, 0.87, 0.85, 0.84,\n",
       "       0.79, 0.66, 1.01, 0.83, 0.67, 0.91, 0.78, 0.61, 0.8 , 0.83, 0.87,\n",
       "       0.76, 0.95, 1.07, 1.  , 0.92, 0.82, 0.91, 0.94, 0.8 , 0.71, 0.78,\n",
       "       0.79, 0.76, 0.93, 0.83, 0.9 , 0.83, 0.71, 0.96, 0.76, 0.85, 1.03,\n",
       "       1.04, 0.86, 0.81, 0.92, 0.86, 0.97, 0.91, 0.79, 0.92, 1.03, 0.97,\n",
       "       0.86, 0.8 , 0.9 , 0.82, 0.89, 0.95, 0.85, 0.98, 0.95, 0.81, 0.69,\n",
       "       0.92, 0.8 , 0.92, 1.03, 0.87, 0.79, 0.9 , 0.69, 0.95, 1.01, 0.99,\n",
       "       0.84, 0.92, 1.07, 1.03, 0.98, 0.89, 1.01, 1.12, 1.02, 0.86, 0.95,\n",
       "       1.02, 0.9 , 0.84, 0.98, 0.9 , 0.9 , 0.97, 1.12, 0.9 , 0.9 , 1.  ,\n",
       "       1.04, 0.95, 0.89, 1.  , 1.02, 0.9 , 0.94, 0.89, 0.92, 0.93, 0.78,\n",
       "       1.  , 0.88, 0.84, 0.83, 0.95, 1.01, 0.83, 0.92, 0.86, 0.81, 1.01,\n",
       "       1.  , 0.84, 0.92, 0.83, 0.99, 0.78, 0.85, 0.84, 0.89, 0.93, 0.8 ,\n",
       "       0.77, 0.87, 0.83, 0.87, 0.82, 0.81, 0.69, 1.12, 1.02, 0.84, 0.88,\n",
       "       0.85, 0.85, 0.91, 0.88, 0.9 , 0.86, 0.93, 0.89, 0.92, 0.88, 1.  ,\n",
       "       0.85, 0.91, 0.92, 0.92, 1.02, 0.9 , 0.92, 0.88, 0.96, 0.9 , 0.85,\n",
       "       0.77, 0.77, 0.94, 0.87, 0.79, 0.82, 0.87, 0.73, 0.84, 0.94, 0.86,\n",
       "       0.8 , 0.86, 0.94, 0.83, 0.85, 0.96])"
      ]
     },
     "execution_count": 28,
     "metadata": {},
     "output_type": "execute_result"
    }
   ],
   "source": [
    "len_l2 = [0]*(int((max_value-min_value)*100)+1)\n",
    "print(len(len_l2))\n",
    "np_clean[0]"
   ]
  },
  {
   "cell_type": "code",
   "execution_count": 29,
   "metadata": {
    "collapsed": false
   },
   "outputs": [
    {
     "ename": "ValueError",
     "evalue": "cannot convert float NaN to integer",
     "output_type": "error",
     "traceback": [
      "\u001b[0;31m---------------------------------------------------------------------------\u001b[0m",
      "\u001b[0;31mValueError\u001b[0m                                Traceback (most recent call last)",
      "\u001b[0;32m<ipython-input-29-28abc88389d3>\u001b[0m in \u001b[0;36m<module>\u001b[0;34m()\u001b[0m\n\u001b[1;32m      1\u001b[0m \u001b[0;32mfor\u001b[0m \u001b[0mi\u001b[0m \u001b[0;32min\u001b[0m \u001b[0mrange\u001b[0m\u001b[0;34m(\u001b[0m\u001b[0mnp_clean\u001b[0m\u001b[0;34m.\u001b[0m\u001b[0mshape\u001b[0m\u001b[0;34m[\u001b[0m\u001b[0;36m0\u001b[0m\u001b[0;34m]\u001b[0m\u001b[0;34m)\u001b[0m\u001b[0;34m:\u001b[0m\u001b[0;34m\u001b[0m\u001b[0m\n\u001b[1;32m      2\u001b[0m     \u001b[0;32mfor\u001b[0m \u001b[0mitem\u001b[0m \u001b[0;32min\u001b[0m \u001b[0mnp_clean\u001b[0m\u001b[0;34m[\u001b[0m\u001b[0mi\u001b[0m\u001b[0;34m]\u001b[0m\u001b[0;34m:\u001b[0m\u001b[0;34m\u001b[0m\u001b[0m\n\u001b[0;32m----> 3\u001b[0;31m         \u001b[0mtemp\u001b[0m \u001b[0;34m=\u001b[0m \u001b[0mint\u001b[0m\u001b[0;34m(\u001b[0m\u001b[0;36m100\u001b[0m\u001b[0;34m*\u001b[0m\u001b[0mitem\u001b[0m\u001b[0;34m)\u001b[0m\u001b[0;34m\u001b[0m\u001b[0m\n\u001b[0m\u001b[1;32m      4\u001b[0m         \u001b[0mlen_l2\u001b[0m\u001b[0;34m[\u001b[0m\u001b[0mtemp\u001b[0m\u001b[0;34m]\u001b[0m\u001b[0;34m+=\u001b[0m\u001b[0;36m1\u001b[0m\u001b[0;34m\u001b[0m\u001b[0m\n\u001b[1;32m      5\u001b[0m \u001b[0;34m\u001b[0m\u001b[0m\n",
      "\u001b[0;31mValueError\u001b[0m: cannot convert float NaN to integer"
     ]
    }
   ],
   "source": [
    "for i in range(np_clean.shape[0]):\n",
    "    for item in np_clean[i]:\n",
    "        temp = int(100*item)\n",
    "        len_l2[temp]+=1\n",
    "        \n",
    "df_len_l2 = pd.DataFrame(np.asarray(len_l2).reshape(len(len_l2),1))"
   ]
  },
  {
   "cell_type": "markdown",
   "metadata": {
    "collapsed": true
   },
   "source": [
    "### MIP_yahoo"
   ]
  },
  {
   "cell_type": "code",
   "execution_count": 13,
   "metadata": {
    "collapsed": false
   },
   "outputs": [
    {
     "name": "stdout",
     "output_type": "stream",
     "text": [
      "(136736, 400)\n"
     ]
    }
   ],
   "source": [
    "np_mip_yahoo = np.loadtxt('../results/log_Inner_yahoo.txt')\n",
    "np_mip_yahoo = np_mip_yahoo[:,1:]\n",
    "print(np_mip_yahoo.shape)"
   ]
  },
  {
   "cell_type": "code",
   "execution_count": 14,
   "metadata": {
    "collapsed": false
   },
   "outputs": [
    {
     "data": {
      "text/plain": [
       "array([4.16957, 4.15526, 4.17489, 4.18636, 4.19856, 4.23714, 4.16601,\n",
       "       4.24666, 4.12456, 4.17043, 4.18355, 4.1104 , 4.16278, 4.20956,\n",
       "       4.20166, 4.1603 , 4.11175, 4.17771, 4.19772, 4.15244, 4.15526,\n",
       "       4.1747 , 4.18135, 4.20477, 4.19398, 4.2299 , 4.15398, 4.25355,\n",
       "       4.12246, 4.20276, 4.18948, 4.10291, 4.16265, 4.24523, 4.22531,\n",
       "       4.17745, 4.13025, 4.18506, 4.23054, 4.1677 , 4.17489, 4.18135,\n",
       "       4.53024, 4.73531, 4.24234, 4.44038, 4.13002, 4.5809 , 4.38423,\n",
       "       4.45213, 4.42307, 4.0875 , 4.43966, 4.49079, 4.46876, 4.57173,\n",
       "       4.45222, 4.35603, 4.73519, 4.63318, 4.18636, 4.20477, 4.73531,\n",
       "       5.31743, 4.28513, 4.57811, 4.11315, 4.83902, 4.54904, 4.76497,\n",
       "       4.57326, 4.07866, 4.61139, 4.86126, 4.88332, 4.95024, 4.81205,\n",
       "       4.53138, 5.32585, 5.17487, 4.19856, 4.19398, 4.24234, 4.28513,\n",
       "       4.31033, 4.32646, 4.2343 , 4.33887, 4.13351, 4.19939, 4.29129,\n",
       "       4.16786, 4.24043, 4.2748 , 4.26018, 4.25674, 4.17894, 4.27986,\n",
       "       4.30882, 4.23342, 4.23714, 4.2299 , 4.44038, 4.57811, 4.32646,\n",
       "       4.5575 , 4.26208, 4.62778, 4.34787, 4.44135, 4.5094 , 4.19586,\n",
       "       4.48326, 4.53319, 4.49522, 4.62253, 4.49347, 4.45189, 4.64567,\n",
       "       4.55766, 4.16601, 4.15398, 4.13002, 4.11315, 4.2343 , 4.26208,\n",
       "       4.22914, 4.23778, 4.07061, 4.11362, 4.22273, 4.1394 , 4.18343,\n",
       "       4.1712 , 4.15772, 4.16224, 4.11638, 4.18687, 4.13935, 4.10987,\n",
       "       4.24666, 4.25355, 4.5809 , 4.83902, 4.33887, 4.62778, 4.23778,\n",
       "       4.8093 , 4.46181, 4.59248, 4.58546, 4.17918, 4.59388, 4.68514,\n",
       "       4.67834, 4.80599, 4.65525, 4.54428, 4.93121, 4.80266, 4.12456,\n",
       "       4.12246, 4.38423, 4.54904, 4.13351, 4.34787, 4.07061, 4.46181,\n",
       "       4.35435, 4.40343, 4.2915 , 4.02301, 4.31337, 4.42891, 4.41496,\n",
       "       4.41917, 4.31338, 4.25279, 4.56716, 4.49481, 4.17043, 4.20276,\n",
       "       4.45213, 4.76497, 4.19939, 4.44135, 4.11362, 4.59248, 4.40343,\n",
       "       4.9437 , 4.42229, 4.03141, 4.38149, 5.05765, 4.99478, 4.60672,\n",
       "       4.52415, 4.3711 , 4.9324 , 4.78287, 4.18355, 4.18948, 4.42307,\n",
       "       4.57326, 4.29129, 4.5094 , 4.22273, 4.58546, 4.2915 , 4.42229,\n",
       "       4.50129, 4.14432, 4.46849, 4.51347, 4.45728, 4.61376, 4.49574,\n",
       "       4.40586, 4.63893, 4.55067, 4.1104 , 4.10291, 4.0875 , 4.07866,\n",
       "       4.16786, 4.19586, 4.1394 , 4.17918, 4.02301, 4.03141, 4.14432,\n",
       "       4.10936, 4.1076 , 4.09092, 4.07038, 4.10999, 4.05964, 4.13359,\n",
       "       4.08014, 4.03479, 4.16278, 4.16265, 4.43966, 4.61139, 4.24043,\n",
       "       4.48326, 4.18343, 4.59388, 4.31337, 4.38149, 4.46849, 4.1076 ,\n",
       "       4.48914, 4.44567, 4.41506, 4.62523, 4.50955, 4.37661, 4.66122,\n",
       "       4.58428, 4.20956, 4.24523, 4.49079, 4.86126, 4.2748 , 4.53319,\n",
       "       4.1712 , 4.68514, 4.42891, 5.05765, 4.51347, 4.09092, 4.44567,\n",
       "       5.23499, 5.16216, 4.71368, 4.62149, 4.46914, 5.07212, 4.89021,\n",
       "       4.20166, 4.22531, 4.46876, 4.88332, 4.26018, 4.49522, 4.15772,\n",
       "       4.67834, 4.41496, 4.99478, 4.45728, 4.07038, 4.41506, 5.16216,\n",
       "       5.16376, 4.67771, 4.59669, 4.4489 , 5.07465, 4.906  , 4.1603 ,\n",
       "       4.17745, 4.57173, 4.95024, 4.25674, 4.62253, 4.16224, 4.80599,\n",
       "       4.41917, 4.60672, 4.61376, 4.10999, 4.62523, 4.71368, 4.67771,\n",
       "       5.00935, 4.84984, 4.53667, 5.03152, 4.92478, 4.11175, 4.13025,\n",
       "       4.45222, 4.81205, 4.17894, 4.49347, 4.11638, 4.65525, 4.31338,\n",
       "       4.52415, 4.49574, 4.05964, 4.50955, 4.62149, 4.59669, 4.84984,\n",
       "       4.76506, 4.42259, 4.87388, 4.79464, 4.17771, 4.18506, 4.35603,\n",
       "       4.53138, 4.27986, 4.45189, 4.18687, 4.54428, 4.25279, 4.3711 ,\n",
       "       4.40586, 4.13359, 4.37661, 4.46914, 4.4489 , 4.53667, 4.42259,\n",
       "       4.41671, 4.60099, 4.49596, 4.19772, 4.23054, 4.73519, 5.32585,\n",
       "       4.30882, 4.64567, 4.13935, 4.93121, 4.56716, 4.9324 , 4.63893,\n",
       "       4.08014, 4.66122, 5.07212, 5.07465, 5.03152, 4.87388, 4.60099,\n",
       "       5.45526, 5.25749, 4.15244, 4.1677 , 4.63318, 5.17487, 4.23342,\n",
       "       4.55766, 4.10987, 4.80266, 4.49481, 4.78287, 4.55067, 4.03479,\n",
       "       4.58428, 4.89021, 4.906  , 4.92478, 4.79464, 4.49596, 5.25749,\n",
       "       5.12886])"
      ]
     },
     "execution_count": 14,
     "metadata": {},
     "output_type": "execute_result"
    }
   ],
   "source": [
    "np_mip_yahoo[0]"
   ]
  },
  {
   "cell_type": "code",
   "execution_count": 15,
   "metadata": {
    "collapsed": false
   },
   "outputs": [
    {
     "name": "stdout",
     "output_type": "stream",
     "text": [
      "2.19\n",
      "8.2\n"
     ]
    }
   ],
   "source": [
    "np_mip_yahoo_round = np.around(np_mip_yahoo, decimals=2)\n",
    "\n",
    "min_np = 1000.0\n",
    "max_np = -1000.0\n",
    "\n",
    "for i in range(np_mip_yahoo_round.shape[0]):\n",
    "#     for item in total_round[i]:\n",
    "    min_np = min(min(np_mip_yahoo_round[i]), min_np)\n",
    "    max_np = max(max(np_mip_yahoo_round[i]), max_np)\n",
    "\n",
    "print(min_np)\n",
    "print(max_np)"
   ]
  },
  {
   "cell_type": "code",
   "execution_count": 16,
   "metadata": {
    "collapsed": false
   },
   "outputs": [
    {
     "name": "stdout",
     "output_type": "stream",
     "text": [
      "602\n"
     ]
    }
   ],
   "source": [
    "len_net = [0]*(int((max_np-min_np)*100)+1)\n",
    "print(len(len_net))\n",
    "\n",
    "for i in range(np_mip_yahoo_round.shape[0]):\n",
    "     for item in np_mip_yahoo_round[i]:\n",
    "        temp = int(100*item - 219)\n",
    "        len_net[temp]+=1"
   ]
  },
  {
   "cell_type": "code",
   "execution_count": 17,
   "metadata": {
    "collapsed": true
   },
   "outputs": [],
   "source": [
    "df_net_len = pd.DataFrame(np.asarray(len_net).reshape(len(len_net),1))\n",
    "df_net_len.to_csv('../results/log_mip_yahoo.csv')"
   ]
  },
  {
   "cell_type": "code",
   "execution_count": 10,
   "metadata": {
    "collapsed": false
   },
   "outputs": [
    {
     "data": {
      "text/html": [
       "<div>\n",
       "<table border=\"1\" class=\"dataframe\">\n",
       "  <thead>\n",
       "    <tr style=\"text-align: right;\">\n",
       "      <th></th>\n",
       "      <th>0</th>\n",
       "    </tr>\n",
       "  </thead>\n",
       "  <tbody>\n",
       "    <tr>\n",
       "      <th>597</th>\n",
       "      <td>21392</td>\n",
       "    </tr>\n",
       "    <tr>\n",
       "      <th>598</th>\n",
       "      <td>29993</td>\n",
       "    </tr>\n",
       "    <tr>\n",
       "      <th>599</th>\n",
       "      <td>13114</td>\n",
       "    </tr>\n",
       "    <tr>\n",
       "      <th>600</th>\n",
       "      <td>13483</td>\n",
       "    </tr>\n",
       "    <tr>\n",
       "      <th>601</th>\n",
       "      <td>0</td>\n",
       "    </tr>\n",
       "  </tbody>\n",
       "</table>\n",
       "</div>"
      ],
      "text/plain": [
       "         0\n",
       "597  21392\n",
       "598  29993\n",
       "599  13114\n",
       "600  13483\n",
       "601      0"
      ]
     },
     "execution_count": 10,
     "metadata": {},
     "output_type": "execute_result"
    }
   ],
   "source": [
    "df_net_len.tail()"
   ]
  },
  {
   "cell_type": "markdown",
   "metadata": {},
   "source": [
    "### L2_yahoo"
   ]
  },
  {
   "cell_type": "code",
   "execution_count": 18,
   "metadata": {
    "collapsed": false
   },
   "outputs": [
    {
     "name": "stdout",
     "output_type": "stream",
     "text": [
      "(136736, 400)\n"
     ]
    }
   ],
   "source": [
    "np_L2_yahoo = np.loadtxt('../results/log_L2_yahoo.txt')\n",
    "np_L2_yahoo = np_L2_yahoo[:,1:]\n",
    "print(np_L2_yahoo.shape)"
   ]
  },
  {
   "cell_type": "code",
   "execution_count": 19,
   "metadata": {
    "collapsed": false
   },
   "outputs": [
    {
     "data": {
      "text/plain": [
       "array([0.       , 0.178719 , 0.14218  , 0.167379 , 0.193895 , 0.186    ,\n",
       "       0.185762 , 0.176089 , 0.275168 , 0.297622 , 0.189534 , 0.18403  ,\n",
       "       0.288377 , 0.263347 , 0.306815 , 0.241274 , 0.257933 , 0.336379 ,\n",
       "       0.318182 , 0.317915 , 0.178719 , 0.       , 0.181654 , 0.182173 ,\n",
       "       0.223665 , 0.180553 , 0.157856 , 0.211463 , 0.193125 , 0.245794 ,\n",
       "       0.204447 , 0.240799 , 0.233572 , 0.279893 , 0.209575 , 0.244421 ,\n",
       "       0.278759 , 0.280188 , 0.270259 , 0.249635 , 0.14218  , 0.181654 ,\n",
       "       0.       , 0.168464 , 0.184109 , 0.124492 , 0.191139 , 0.181627 ,\n",
       "       0.245561 , 0.303956 , 0.199408 , 0.143415 , 0.290421 , 0.22602  ,\n",
       "       0.282845 , 0.160429 , 0.292203 , 0.34781  , 0.307025 , 0.278007 ,\n",
       "       0.167379 , 0.182173 , 0.168464 , 0.       , 0.224262 , 0.191889 ,\n",
       "       0.16003  , 0.194825 , 0.208261 , 0.257452 , 0.211611 , 0.21131  ,\n",
       "       0.244975 , 0.247004 , 0.267215 , 0.255086 , 0.302309 , 0.282807 ,\n",
       "       0.252086 , 0.260105 , 0.193895 , 0.223665 , 0.184109 , 0.224262 ,\n",
       "       0.       , 0.234145 , 0.210415 , 0.141507 , 0.258666 , 0.288072 ,\n",
       "       0.2553   , 0.240421 , 0.267979 , 0.301997 , 0.320411 , 0.259347 ,\n",
       "       0.191978 , 0.313862 , 0.293178 , 0.301045 , 0.186    , 0.180553 ,\n",
       "       0.124492 , 0.191889 , 0.234145 , 0.       , 0.215147 , 0.21953  ,\n",
       "       0.264185 , 0.328919 , 0.171861 , 0.153581 , 0.317329 , 0.228684 ,\n",
       "       0.288842 , 0.148347 , 0.317664 , 0.370299 , 0.331421 , 0.280507 ,\n",
       "       0.185762 , 0.157856 , 0.191139 , 0.16003  , 0.210415 , 0.215147 ,\n",
       "       0.       , 0.168784 , 0.205473 , 0.245924 , 0.219852 , 0.233545 ,\n",
       "       0.231523 , 0.303932 , 0.262387 , 0.291852 , 0.27362  , 0.283564 ,\n",
       "       0.241023 , 0.246    , 0.176089 , 0.211463 , 0.181627 , 0.194825 ,\n",
       "       0.141507 , 0.21953  , 0.168784 , 0.       , 0.274093 , 0.320277 ,\n",
       "       0.200068 , 0.215591 , 0.298814 , 0.329867 , 0.349033 , 0.269374 ,\n",
       "       0.223268 , 0.337952 , 0.303098 , 0.324866 , 0.275168 , 0.193125 ,\n",
       "       0.245561 , 0.208261 , 0.258666 , 0.264185 , 0.205473 , 0.274093 ,\n",
       "       0.       , 0.153835 , 0.319646 , 0.323919 , 0.151576 , 0.252044 ,\n",
       "       0.15939  , 0.293937 , 0.305721 , 0.187642 , 0.132008 , 0.140067 ,\n",
       "       0.297622 , 0.245794 , 0.303956 , 0.257452 , 0.288072 , 0.328919 ,\n",
       "       0.245924 , 0.320277 , 0.153835 , 0.       , 0.356833 , 0.362608 ,\n",
       "       0.0899762, 0.27377  , 0.151824 , 0.351998 , 0.321602 , 0.118346 ,\n",
       "       0.14497  , 0.183718 , 0.189534 , 0.204447 , 0.199408 , 0.211611 ,\n",
       "       0.2553   , 0.171861 , 0.219852 , 0.200068 , 0.319646 , 0.356833 ,\n",
       "       0.       , 0.186738 , 0.347882 , 0.317149 , 0.337939 , 0.236303 ,\n",
       "       0.311007 , 0.388263 , 0.359522 , 0.350185 , 0.18403  , 0.240799 ,\n",
       "       0.143415 , 0.21131  , 0.240421 , 0.153581 , 0.233545 , 0.215591 ,\n",
       "       0.323919 , 0.362608 , 0.186738 , 0.       , 0.363472 , 0.268498 ,\n",
       "       0.344638 , 0.199858 , 0.329698 , 0.410355 , 0.364715 , 0.336938 ,\n",
       "       0.288377 , 0.233572 , 0.290421 , 0.244975 , 0.267979 , 0.317329 ,\n",
       "       0.231523 , 0.298814 , 0.151576 , 0.0899762, 0.347882 , 0.363472 ,\n",
       "       0.       , 0.28913  , 0.161786 , 0.343392 , 0.307157 , 0.137326 ,\n",
       "       0.16183  , 0.177237 , 0.263347 , 0.279893 , 0.22602  , 0.247004 ,\n",
       "       0.301997 , 0.228684 , 0.303932 , 0.329867 , 0.252044 , 0.27377  ,\n",
       "       0.317149 , 0.268498 , 0.28913  , 0.       , 0.248767 , 0.204547 ,\n",
       "       0.36941  , 0.313781 , 0.293092 , 0.25212  , 0.306815 , 0.209575 ,\n",
       "       0.282845 , 0.267215 , 0.320411 , 0.288842 , 0.262387 , 0.349033 ,\n",
       "       0.15939  , 0.151824 , 0.337939 , 0.344638 , 0.161786 , 0.248767 ,\n",
       "       0.       , 0.294588 , 0.362924 , 0.212044 , 0.216824 , 0.159154 ,\n",
       "       0.241274 , 0.244421 , 0.160429 , 0.255086 , 0.259347 , 0.148347 ,\n",
       "       0.291852 , 0.269374 , 0.293937 , 0.351998 , 0.236303 , 0.199858 ,\n",
       "       0.343392 , 0.204547 , 0.294588 , 0.       , 0.338912 , 0.397344 ,\n",
       "       0.364512 , 0.29406  , 0.257933 , 0.278759 , 0.292203 , 0.302309 ,\n",
       "       0.191978 , 0.317664 , 0.27362  , 0.223268 , 0.305721 , 0.321602 ,\n",
       "       0.311007 , 0.329698 , 0.307157 , 0.36941  , 0.362924 , 0.338912 ,\n",
       "       0.       , 0.339643 , 0.320407 , 0.336647 , 0.336379 , 0.280188 ,\n",
       "       0.34781  , 0.282807 , 0.313862 , 0.370299 , 0.283564 , 0.337952 ,\n",
       "       0.187642 , 0.118346 , 0.388263 , 0.410355 , 0.137326 , 0.313781 ,\n",
       "       0.212044 , 0.397344 , 0.339643 , 0.       , 0.155691 , 0.24023  ,\n",
       "       0.318182 , 0.270259 , 0.307025 , 0.252086 , 0.293178 , 0.331421 ,\n",
       "       0.241023 , 0.303098 , 0.132008 , 0.14497  , 0.359522 , 0.364715 ,\n",
       "       0.16183  , 0.293092 , 0.216824 , 0.364512 , 0.320407 , 0.155691 ,\n",
       "       0.       , 0.188217 , 0.317915 , 0.249635 , 0.278007 , 0.260105 ,\n",
       "       0.301045 , 0.280507 , 0.246    , 0.324866 , 0.140067 , 0.183718 ,\n",
       "       0.350185 , 0.336938 , 0.177237 , 0.25212  , 0.159154 , 0.29406  ,\n",
       "       0.336647 , 0.24023  , 0.188217 , 0.       ])"
      ]
     },
     "execution_count": 19,
     "metadata": {},
     "output_type": "execute_result"
    }
   ],
   "source": [
    "np_L2_yahoo[0]"
   ]
  },
  {
   "cell_type": "code",
   "execution_count": 20,
   "metadata": {
    "collapsed": false
   },
   "outputs": [
    {
     "name": "stdout",
     "output_type": "stream",
     "text": [
      "0.0\n",
      "0.96\n"
     ]
    }
   ],
   "source": [
    "np_L2_yahoo_round = np.around(np_L2_yahoo, decimals=2)\n",
    "\n",
    "min_np_l2 = 1000.0\n",
    "max_np_l2 = -1000.0\n",
    "\n",
    "for i in range(np_L2_yahoo_round.shape[0]):\n",
    "#     for item in total_round[i]:\n",
    "    min_np_l2 = min(min(np_L2_yahoo_round[i]), min_np_l2)\n",
    "    max_np_l2 = max(max(np_L2_yahoo_round[i]), max_np_l2)\n",
    "\n",
    "print(min_np_l2)\n",
    "print(max_np_l2)"
   ]
  },
  {
   "cell_type": "code",
   "execution_count": 21,
   "metadata": {
    "collapsed": false
   },
   "outputs": [
    {
     "name": "stdout",
     "output_type": "stream",
     "text": [
      "97\n"
     ]
    }
   ],
   "source": [
    "len_net_l2 = [0]*(int((max_np_l2-min_np_l2)*100)+1)\n",
    "print(len(len_net_l2))\n",
    "\n",
    "for i in range(np_L2_yahoo_round.shape[0]):\n",
    "     for item in np_L2_yahoo_round[i]:\n",
    "        temp = int(100*item)\n",
    "        len_net_l2[temp]+=1"
   ]
  },
  {
   "cell_type": "code",
   "execution_count": 22,
   "metadata": {
    "collapsed": true
   },
   "outputs": [],
   "source": [
    "df_net_len_l2 = pd.DataFrame(np.asarray(len_net_l2).reshape(len(len_net_l2),1))\n",
    "df_net_len_l2.to_csv('../results/log_L2_yahoo.csv')"
   ]
  },
  {
   "cell_type": "code",
   "execution_count": null,
   "metadata": {
    "collapsed": true
   },
   "outputs": [],
   "source": []
  }
 ],
 "metadata": {
  "anaconda-cloud": {},
  "kernelspec": {
   "display_name": "Python [default]",
   "language": "python",
   "name": "python3"
  },
  "language_info": {
   "codemirror_mode": {
    "name": "ipython",
    "version": 3
   },
   "file_extension": ".py",
   "mimetype": "text/x-python",
   "name": "python",
   "nbconvert_exporter": "python",
   "pygments_lexer": "ipython3",
   "version": "3.5.2"
  }
 },
 "nbformat": 4,
 "nbformat_minor": 2
}
